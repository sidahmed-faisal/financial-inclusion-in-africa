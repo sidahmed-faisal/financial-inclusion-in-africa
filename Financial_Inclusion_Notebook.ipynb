{
  "nbformat": 4,
  "nbformat_minor": 0,
  "metadata": {
    "hide_input": false,
    "kernel_info": {
      "name": "python3"
    },
    "kernelspec": {
      "display_name": "Python 3",
      "language": "python",
      "name": "python3"
    },
    "language_info": {
      "codemirror_mode": {
        "name": "ipython",
        "version": 3
      },
      "file_extension": ".py",
      "mimetype": "text/x-python",
      "name": "python",
      "nbconvert_exporter": "python",
      "pygments_lexer": "ipython3",
      "version": "3.8.8"
    },
    "nteract": {
      "version": "0.15.0"
    },
    "toc": {
      "base_numbering": 1,
      "nav_menu": {},
      "number_sections": true,
      "sideBar": true,
      "skip_h1_title": false,
      "title_cell": "Table of Contents",
      "title_sidebar": "Contents",
      "toc_cell": false,
      "toc_position": {},
      "toc_section_display": true,
      "toc_window_display": false
    },
    "colab": {
      "provenance": [],
      "collapsed_sections": []
    }
  },
  "cells": [
    {
      "cell_type": "markdown",
      "metadata": {
        "id": "wVHUQMS6CRqB"
      },
      "source": [
        "# Financial Inclusion in Africa Zindi Competition\n"
      ]
    },
    {
      "cell_type": "markdown",
      "metadata": {
        "id": "jOvH0-5-CRqP"
      },
      "source": [
        "Remember to read the competition details in the zindi platform, [Zindi Africa](https://zindi.africa)"
      ]
    },
    {
      "cell_type": "code",
      "metadata": {
        "id": "ayMkABVVCRqQ"
      },
      "source": [
        "# import important modules \n",
        "\n",
        "import pandas as pd\n",
        "import numpy as np\n",
        "import matplotlib.pyplot as plt\n",
        "import seaborn as sns  \n",
        "import warnings\n",
        "np.random.seed(123)\n",
        "warnings.filterwarnings('ignore')\n",
        "%matplotlib inline "
      ],
      "execution_count": null,
      "outputs": []
    },
    {
      "cell_type": "code",
      "metadata": {
        "colab": {
          "base_uri": "https://localhost:8080/"
        },
        "id": "UaFgHx1nCbLg",
        "outputId": "ff8d8666-2694-4046-f6b4-dc48d91abb65"
      },
      "source": [
        "\n",
        "from google.colab import drive\n",
        "drive.mount('/content/drive')"
      ],
      "execution_count": null,
      "outputs": [
        {
          "output_type": "stream",
          "name": "stdout",
          "text": [
            "Mounted at /content/drive\n"
          ]
        }
      ]
    },
    {
      "cell_type": "markdown",
      "metadata": {
        "id": "zirseNYSCRqS"
      },
      "source": [
        "## Load Dataset"
      ]
    },
    {
      "cell_type": "code",
      "metadata": {
        "id": "F3_TuLd7CRqS"
      },
      "source": [
        "# Import data\n",
        "train_data = pd.read_csv('/content/drive/MyDrive/zindi/Train.csv')\n",
        "test_data = pd.read_csv('/content/drive/MyDrive/zindi/Test.csv')"
      ],
      "execution_count": null,
      "outputs": []
    },
    {
      "cell_type": "code",
      "metadata": {
        "colab": {
          "base_uri": "https://localhost:8080/"
        },
        "id": "4k1ujOLPLIC_",
        "outputId": "e53c3866-439e-4d00-bed2-8a171ec71cf9"
      },
      "source": [
        "from google.colab import drive\n",
        "drive.mount('/content/drive')"
      ],
      "execution_count": null,
      "outputs": [
        {
          "output_type": "stream",
          "name": "stdout",
          "text": [
            "Mounted at /content/drive\n"
          ]
        }
      ]
    },
    {
      "cell_type": "code",
      "metadata": {
        "colab": {
          "base_uri": "https://localhost:8080/"
        },
        "id": "Dj1wRnroCRqS",
        "outputId": "6e9f4da6-2585-4b80-f2bf-6adc069ae08a"
      },
      "source": [
        "# print shape \n",
        "print('train data shape :', train_data.shape)\n",
        "print('test data shape :', test_data.shape)"
      ],
      "execution_count": null,
      "outputs": [
        {
          "output_type": "stream",
          "name": "stdout",
          "text": [
            "train data shape : (23524, 13)\n",
            "test data shape : (10086, 12)\n"
          ]
        }
      ]
    },
    {
      "cell_type": "markdown",
      "metadata": {
        "id": "c7cRAPeMCRqT"
      },
      "source": [
        "The above output show the number of rows and columns for train and test dataset "
      ]
    },
    {
      "cell_type": "code",
      "metadata": {
        "id": "cifhq5HrCRqU",
        "outputId": "e4b0bab8-5861-4142-ec44-9d9a8fa6d892"
      },
      "source": [
        "# Inspect train Data\n",
        "train_data.head()"
      ],
      "execution_count": null,
      "outputs": [
        {
          "data": {
            "text/html": [
              "<div>\n",
              "<style scoped>\n",
              "    .dataframe tbody tr th:only-of-type {\n",
              "        vertical-align: middle;\n",
              "    }\n",
              "\n",
              "    .dataframe tbody tr th {\n",
              "        vertical-align: top;\n",
              "    }\n",
              "\n",
              "    .dataframe thead th {\n",
              "        text-align: right;\n",
              "    }\n",
              "</style>\n",
              "<table border=\"1\" class=\"dataframe\">\n",
              "  <thead>\n",
              "    <tr style=\"text-align: right;\">\n",
              "      <th></th>\n",
              "      <th>country</th>\n",
              "      <th>year</th>\n",
              "      <th>uniqueid</th>\n",
              "      <th>bank_account</th>\n",
              "      <th>location_type</th>\n",
              "      <th>cellphone_access</th>\n",
              "      <th>household_size</th>\n",
              "      <th>age_of_respondent</th>\n",
              "      <th>gender_of_respondent</th>\n",
              "      <th>relationship_with_head</th>\n",
              "      <th>marital_status</th>\n",
              "      <th>education_level</th>\n",
              "      <th>job_type</th>\n",
              "    </tr>\n",
              "  </thead>\n",
              "  <tbody>\n",
              "    <tr>\n",
              "      <th>0</th>\n",
              "      <td>Kenya</td>\n",
              "      <td>2018</td>\n",
              "      <td>uniqueid_1</td>\n",
              "      <td>Yes</td>\n",
              "      <td>Rural</td>\n",
              "      <td>Yes</td>\n",
              "      <td>3</td>\n",
              "      <td>24</td>\n",
              "      <td>Female</td>\n",
              "      <td>Spouse</td>\n",
              "      <td>Married/Living together</td>\n",
              "      <td>Secondary education</td>\n",
              "      <td>Self employed</td>\n",
              "    </tr>\n",
              "    <tr>\n",
              "      <th>1</th>\n",
              "      <td>Kenya</td>\n",
              "      <td>2018</td>\n",
              "      <td>uniqueid_2</td>\n",
              "      <td>No</td>\n",
              "      <td>Rural</td>\n",
              "      <td>No</td>\n",
              "      <td>5</td>\n",
              "      <td>70</td>\n",
              "      <td>Female</td>\n",
              "      <td>Head of Household</td>\n",
              "      <td>Widowed</td>\n",
              "      <td>No formal education</td>\n",
              "      <td>Government Dependent</td>\n",
              "    </tr>\n",
              "    <tr>\n",
              "      <th>2</th>\n",
              "      <td>Kenya</td>\n",
              "      <td>2018</td>\n",
              "      <td>uniqueid_3</td>\n",
              "      <td>Yes</td>\n",
              "      <td>Urban</td>\n",
              "      <td>Yes</td>\n",
              "      <td>5</td>\n",
              "      <td>26</td>\n",
              "      <td>Male</td>\n",
              "      <td>Other relative</td>\n",
              "      <td>Single/Never Married</td>\n",
              "      <td>Vocational/Specialised training</td>\n",
              "      <td>Self employed</td>\n",
              "    </tr>\n",
              "    <tr>\n",
              "      <th>3</th>\n",
              "      <td>Kenya</td>\n",
              "      <td>2018</td>\n",
              "      <td>uniqueid_4</td>\n",
              "      <td>No</td>\n",
              "      <td>Rural</td>\n",
              "      <td>Yes</td>\n",
              "      <td>5</td>\n",
              "      <td>34</td>\n",
              "      <td>Female</td>\n",
              "      <td>Head of Household</td>\n",
              "      <td>Married/Living together</td>\n",
              "      <td>Primary education</td>\n",
              "      <td>Formally employed Private</td>\n",
              "    </tr>\n",
              "    <tr>\n",
              "      <th>4</th>\n",
              "      <td>Kenya</td>\n",
              "      <td>2018</td>\n",
              "      <td>uniqueid_5</td>\n",
              "      <td>No</td>\n",
              "      <td>Urban</td>\n",
              "      <td>No</td>\n",
              "      <td>8</td>\n",
              "      <td>26</td>\n",
              "      <td>Male</td>\n",
              "      <td>Child</td>\n",
              "      <td>Single/Never Married</td>\n",
              "      <td>Primary education</td>\n",
              "      <td>Informally employed</td>\n",
              "    </tr>\n",
              "  </tbody>\n",
              "</table>\n",
              "</div>"
            ],
            "text/plain": [
              "  country  year    uniqueid bank_account location_type cellphone_access  \\\n",
              "0   Kenya  2018  uniqueid_1          Yes         Rural              Yes   \n",
              "1   Kenya  2018  uniqueid_2           No         Rural               No   \n",
              "2   Kenya  2018  uniqueid_3          Yes         Urban              Yes   \n",
              "3   Kenya  2018  uniqueid_4           No         Rural              Yes   \n",
              "4   Kenya  2018  uniqueid_5           No         Urban               No   \n",
              "\n",
              "   household_size  age_of_respondent gender_of_respondent  \\\n",
              "0               3                 24               Female   \n",
              "1               5                 70               Female   \n",
              "2               5                 26                 Male   \n",
              "3               5                 34               Female   \n",
              "4               8                 26                 Male   \n",
              "\n",
              "  relationship_with_head           marital_status  \\\n",
              "0                 Spouse  Married/Living together   \n",
              "1      Head of Household                  Widowed   \n",
              "2         Other relative     Single/Never Married   \n",
              "3      Head of Household  Married/Living together   \n",
              "4                  Child     Single/Never Married   \n",
              "\n",
              "                   education_level                   job_type  \n",
              "0              Secondary education              Self employed  \n",
              "1              No formal education       Government Dependent  \n",
              "2  Vocational/Specialised training              Self employed  \n",
              "3                Primary education  Formally employed Private  \n",
              "4                Primary education        Informally employed  "
            ]
          },
          "execution_count": 4,
          "metadata": {},
          "output_type": "execute_result"
        }
      ]
    },
    {
      "cell_type": "markdown",
      "metadata": {
        "id": "52sO-EW1CRqU"
      },
      "source": [
        "**Note:** Open the VariableDefinition file to understand the meaning of each variable in this dataset "
      ]
    },
    {
      "cell_type": "code",
      "metadata": {
        "colab": {
          "base_uri": "https://localhost:8080/",
          "height": 203
        },
        "id": "q9uA70ovCRqU",
        "outputId": "6fbfc854-27f7-4db2-fcf9-802d78eb5c35"
      },
      "source": [
        "submission = pd.read_csv('/content/drive/MyDrive/zindi/SampleSubmission.csv')\n",
        "submission.head()"
      ],
      "execution_count": null,
      "outputs": [
        {
          "output_type": "execute_result",
          "data": {
            "text/html": [
              "<div>\n",
              "<style scoped>\n",
              "    .dataframe tbody tr th:only-of-type {\n",
              "        vertical-align: middle;\n",
              "    }\n",
              "\n",
              "    .dataframe tbody tr th {\n",
              "        vertical-align: top;\n",
              "    }\n",
              "\n",
              "    .dataframe thead th {\n",
              "        text-align: right;\n",
              "    }\n",
              "</style>\n",
              "<table border=\"1\" class=\"dataframe\">\n",
              "  <thead>\n",
              "    <tr style=\"text-align: right;\">\n",
              "      <th></th>\n",
              "      <th>unique_id</th>\n",
              "      <th>bank_account</th>\n",
              "    </tr>\n",
              "  </thead>\n",
              "  <tbody>\n",
              "    <tr>\n",
              "      <th>0</th>\n",
              "      <td>uniqueid_1 x Kenya</td>\n",
              "      <td>0</td>\n",
              "    </tr>\n",
              "    <tr>\n",
              "      <th>1</th>\n",
              "      <td>uniqueid_2 x Kenya</td>\n",
              "      <td>0</td>\n",
              "    </tr>\n",
              "    <tr>\n",
              "      <th>2</th>\n",
              "      <td>uniqueid_3 x Kenya</td>\n",
              "      <td>0</td>\n",
              "    </tr>\n",
              "    <tr>\n",
              "      <th>3</th>\n",
              "      <td>uniqueid_4 x Kenya</td>\n",
              "      <td>0</td>\n",
              "    </tr>\n",
              "    <tr>\n",
              "      <th>4</th>\n",
              "      <td>uniqueid_5 x Kenya</td>\n",
              "      <td>0</td>\n",
              "    </tr>\n",
              "  </tbody>\n",
              "</table>\n",
              "</div>"
            ],
            "text/plain": [
              "            unique_id  bank_account\n",
              "0  uniqueid_1 x Kenya             0\n",
              "1  uniqueid_2 x Kenya             0\n",
              "2  uniqueid_3 x Kenya             0\n",
              "3  uniqueid_4 x Kenya             0\n",
              "4  uniqueid_5 x Kenya             0"
            ]
          },
          "metadata": {},
          "execution_count": 7
        }
      ]
    },
    {
      "cell_type": "markdown",
      "metadata": {
        "id": "rg8CVkSmCRqV"
      },
      "source": [
        "## Explolatory Data Analysis \n",
        "\n",
        "This is the process of finding some insights from you dataset before create predictive models.\n",
        "\n",
        "**Note:** This is important steps in your Data science workflow."
      ]
    },
    {
      "cell_type": "code",
      "metadata": {
        "id": "_IQkOoStCRqV",
        "outputId": "d53755b9-8e77-465b-d2ba-f60c12b20b7f"
      },
      "source": [
        "#show list of columns \n",
        "list(train_data.columns)  "
      ],
      "execution_count": null,
      "outputs": [
        {
          "data": {
            "text/plain": [
              "['country',\n",
              " 'year',\n",
              " 'uniqueid',\n",
              " 'bank_account',\n",
              " 'location_type',\n",
              " 'cellphone_access',\n",
              " 'household_size',\n",
              " 'age_of_respondent',\n",
              " 'gender_of_respondent',\n",
              " 'relationship_with_head',\n",
              " 'marital_status',\n",
              " 'education_level',\n",
              " 'job_type']"
            ]
          },
          "execution_count": 7,
          "metadata": {},
          "output_type": "execute_result"
        }
      ]
    },
    {
      "cell_type": "code",
      "metadata": {
        "id": "Rya7nP1jCRqW",
        "outputId": "673226f7-15f9-4c4d-de6a-9a5eea9bbcbe"
      },
      "source": [
        "## show Some information about the dataset \n",
        "print(train_data.info())"
      ],
      "execution_count": null,
      "outputs": [
        {
          "name": "stdout",
          "output_type": "stream",
          "text": [
            "<class 'pandas.core.frame.DataFrame'>\n",
            "RangeIndex: 23524 entries, 0 to 23523\n",
            "Data columns (total 13 columns):\n",
            " #   Column                  Non-Null Count  Dtype \n",
            "---  ------                  --------------  ----- \n",
            " 0   country                 23524 non-null  object\n",
            " 1   year                    23524 non-null  int64 \n",
            " 2   uniqueid                23524 non-null  object\n",
            " 3   bank_account            23524 non-null  object\n",
            " 4   location_type           23524 non-null  object\n",
            " 5   cellphone_access        23524 non-null  object\n",
            " 6   household_size          23524 non-null  int64 \n",
            " 7   age_of_respondent       23524 non-null  int64 \n",
            " 8   gender_of_respondent    23524 non-null  object\n",
            " 9   relationship_with_head  23524 non-null  object\n",
            " 10  marital_status          23524 non-null  object\n",
            " 11  education_level         23524 non-null  object\n",
            " 12  job_type                23524 non-null  object\n",
            "dtypes: int64(3), object(10)\n",
            "memory usage: 2.3+ MB\n",
            "None\n"
          ]
        }
      ]
    },
    {
      "cell_type": "markdown",
      "metadata": {
        "id": "M08wOTpnCRqX"
      },
      "source": [
        "The outshow shows the list of variables , sizes and data types in each variables. This will help you to know what feature engineering techniques you can apply."
      ]
    },
    {
      "cell_type": "code",
      "metadata": {
        "id": "O_XanS-jCRqX",
        "outputId": "14cc85f6-930d-47b1-b225-e9825c716b6c"
      },
      "source": [
        "# Check for missing values\n",
        "print('missing values:', train_data.isnull().sum())"
      ],
      "execution_count": null,
      "outputs": [
        {
          "name": "stdout",
          "output_type": "stream",
          "text": [
            "missing values: country                   0\n",
            "year                      0\n",
            "uniqueid                  0\n",
            "bank_account              0\n",
            "location_type             0\n",
            "cellphone_access          0\n",
            "household_size            0\n",
            "age_of_respondent         0\n",
            "gender_of_respondent      0\n",
            "relationship_with_head    0\n",
            "marital_status            0\n",
            "education_level           0\n",
            "job_type                  0\n",
            "dtype: int64\n"
          ]
        }
      ]
    },
    {
      "cell_type": "markdown",
      "metadata": {
        "id": "yxP4vERBCRqY"
      },
      "source": [
        "We don't have missing data in our dataset."
      ]
    },
    {
      "cell_type": "code",
      "metadata": {
        "id": "gHtaG6V9CRqZ",
        "outputId": "8201a9c7-11cf-4890-b863-6461377a3c6a"
      },
      "source": [
        "# Explore Target distribution \n",
        "\n",
        "sns.catplot(x=\"bank_account\", kind=\"count\", data=train_data)"
      ],
      "execution_count": null,
      "outputs": [
        {
          "data": {
            "text/plain": [
              "<seaborn.axisgrid.FacetGrid at 0x1a460021e80>"
            ]
          },
          "execution_count": 8,
          "metadata": {},
          "output_type": "execute_result"
        },
        {
          "data": {
            "image/png": "[encoded data removed]",
            "text/plain": [
              "<Figure size 360x360 with 1 Axes>"
            ]
          },
          "metadata": {
            "needs_background": "light"
          },
          "output_type": "display_data"
        }
      ]
    },
    {
      "cell_type": "code",
      "metadata": {
        "inputHidden": false,
        "outputHidden": false,
        "id": "MphK-sXLCRqa",
        "outputId": "3dc2f863-7905-4f57-a5ca-a6c4bb05fcdc"
      },
      "source": [
        "train_data['bank_account'].value_counts()"
      ],
      "execution_count": null,
      "outputs": [
        {
          "data": {
            "text/plain": [
              "No     20212\n",
              "Yes     3312\n",
              "Name: bank_account, dtype: int64"
            ]
          },
          "execution_count": 11,
          "metadata": {},
          "output_type": "execute_result"
        }
      ]
    },
    {
      "cell_type": "markdown",
      "metadata": {
        "id": "FlZdYXP3CRqb"
      },
      "source": [
        "The data shows that we have large number of **no** class than **yes** class  in our target variable "
      ]
    },
    {
      "cell_type": "markdown",
      "metadata": {
        "id": "Rea0LOYtCRqc"
      },
      "source": [
        "In my previous article , I explained more about Exploratory data analysis with the financial Inclusion in Africa dataset.You can read and download the notebook [here](https://medium.com/analytics-vidhya/why-you-need-to-explore-your-data-how-you-can-start-13de6f29c8c1)"
      ]
    },
    {
      "cell_type": "markdown",
      "metadata": {
        "id": "l-A6iib6CRqc"
      },
      "source": [
        "## Data Preprocessing "
      ]
    },
    {
      "cell_type": "code",
      "metadata": {
        "id": "aKAkoOkuM5C7"
      },
      "source": [
        "test_data = test_data.drop(['year'],axis=1)\n",
        "# test_data = test_data.drop(['household_size'],axis=1)\n"
      ],
      "execution_count": null,
      "outputs": []
    },
    {
      "cell_type": "code",
      "metadata": {
        "colab": {
          "base_uri": "https://localhost:8080/",
          "height": 324
        },
        "id": "vVdZxQkiCRqd",
        "outputId": "085a7cf6-f5b7-468d-d739-20fdb659a059"
      },
      "source": [
        "#import preprocessing module \n",
        "from sklearn.preprocessing import LabelEncoder\n",
        "from sklearn.preprocessing import MinMaxScaler \n",
        "\n",
        "# Convert target label to numerical Data\n",
        "le = LabelEncoder()\n",
        "train_data['bank_account'] = le.fit_transform(train_data['bank_account'])\n",
        "\n",
        "#Separate training features from target\n",
        "train_data = train_data.drop(['year'], axis=1)\n",
        "# train_data = train_data.drop(['household_size'], axis=1)\n",
        "\n",
        "X_train = train_data.drop(['bank_account'], axis=1)\n",
        "\n",
        "y_train = train_data['bank_account']\n",
        "\n",
        "# y_train = pd.DataFrame(train_data['bank_account'])\n",
        "\n",
        "X_train.head()"
      ],
      "execution_count": null,
      "outputs": [
        {
          "output_type": "execute_result",
          "data": {
            "text/html": [
              "<div>\n",
              "<style scoped>\n",
              "    .dataframe tbody tr th:only-of-type {\n",
              "        vertical-align: middle;\n",
              "    }\n",
              "\n",
              "    .dataframe tbody tr th {\n",
              "        vertical-align: top;\n",
              "    }\n",
              "\n",
              "    .dataframe thead th {\n",
              "        text-align: right;\n",
              "    }\n",
              "</style>\n",
              "<table border=\"1\" class=\"dataframe\">\n",
              "  <thead>\n",
              "    <tr style=\"text-align: right;\">\n",
              "      <th></th>\n",
              "      <th>country</th>\n",
              "      <th>uniqueid</th>\n",
              "      <th>location_type</th>\n",
              "      <th>cellphone_access</th>\n",
              "      <th>household_size</th>\n",
              "      <th>age_of_respondent</th>\n",
              "      <th>gender_of_respondent</th>\n",
              "      <th>relationship_with_head</th>\n",
              "      <th>marital_status</th>\n",
              "      <th>education_level</th>\n",
              "      <th>job_type</th>\n",
              "    </tr>\n",
              "  </thead>\n",
              "  <tbody>\n",
              "    <tr>\n",
              "      <th>0</th>\n",
              "      <td>Kenya</td>\n",
              "      <td>uniqueid_1</td>\n",
              "      <td>Rural</td>\n",
              "      <td>Yes</td>\n",
              "      <td>3</td>\n",
              "      <td>24</td>\n",
              "      <td>Female</td>\n",
              "      <td>Spouse</td>\n",
              "      <td>Married/Living together</td>\n",
              "      <td>Secondary education</td>\n",
              "      <td>Self employed</td>\n",
              "    </tr>\n",
              "    <tr>\n",
              "      <th>1</th>\n",
              "      <td>Kenya</td>\n",
              "      <td>uniqueid_2</td>\n",
              "      <td>Rural</td>\n",
              "      <td>No</td>\n",
              "      <td>5</td>\n",
              "      <td>70</td>\n",
              "      <td>Female</td>\n",
              "      <td>Head of Household</td>\n",
              "      <td>Widowed</td>\n",
              "      <td>No formal education</td>\n",
              "      <td>Government Dependent</td>\n",
              "    </tr>\n",
              "    <tr>\n",
              "      <th>2</th>\n",
              "      <td>Kenya</td>\n",
              "      <td>uniqueid_3</td>\n",
              "      <td>Urban</td>\n",
              "      <td>Yes</td>\n",
              "      <td>5</td>\n",
              "      <td>26</td>\n",
              "      <td>Male</td>\n",
              "      <td>Other relative</td>\n",
              "      <td>Single/Never Married</td>\n",
              "      <td>Vocational/Specialised training</td>\n",
              "      <td>Self employed</td>\n",
              "    </tr>\n",
              "    <tr>\n",
              "      <th>3</th>\n",
              "      <td>Kenya</td>\n",
              "      <td>uniqueid_4</td>\n",
              "      <td>Rural</td>\n",
              "      <td>Yes</td>\n",
              "      <td>5</td>\n",
              "      <td>34</td>\n",
              "      <td>Female</td>\n",
              "      <td>Head of Household</td>\n",
              "      <td>Married/Living together</td>\n",
              "      <td>Primary education</td>\n",
              "      <td>Formally employed Private</td>\n",
              "    </tr>\n",
              "    <tr>\n",
              "      <th>4</th>\n",
              "      <td>Kenya</td>\n",
              "      <td>uniqueid_5</td>\n",
              "      <td>Urban</td>\n",
              "      <td>No</td>\n",
              "      <td>8</td>\n",
              "      <td>26</td>\n",
              "      <td>Male</td>\n",
              "      <td>Child</td>\n",
              "      <td>Single/Never Married</td>\n",
              "      <td>Primary education</td>\n",
              "      <td>Informally employed</td>\n",
              "    </tr>\n",
              "  </tbody>\n",
              "</table>\n",
              "</div>"
            ],
            "text/plain": [
              "  country  ...                   job_type\n",
              "0   Kenya  ...              Self employed\n",
              "1   Kenya  ...       Government Dependent\n",
              "2   Kenya  ...              Self employed\n",
              "3   Kenya  ...  Formally employed Private\n",
              "4   Kenya  ...        Informally employed\n",
              "\n",
              "[5 rows x 11 columns]"
            ]
          },
          "metadata": {},
          "execution_count": 139
        }
      ]
    },
    {
      "cell_type": "code",
      "metadata": {
        "id": "fXcJ3u5NCRqe",
        "outputId": "04a336e5-e2ee-4bce-d7c5-9fbc544576d4"
      },
      "source": [
        "# our target \n",
        "y_train.head() "
      ],
      "execution_count": null,
      "outputs": [
        {
          "data": {
            "text/plain": [
              "0    1\n",
              "1    0\n",
              "2    1\n",
              "3    0\n",
              "4    0\n",
              "Name: bank_account, dtype: int32"
            ]
          },
          "execution_count": 13,
          "metadata": {},
          "output_type": "execute_result"
        }
      ]
    },
    {
      "cell_type": "code",
      "metadata": {
        "id": "tYMf1B_qLmk7"
      },
      "source": [],
      "execution_count": null,
      "outputs": []
    },
    {
      "cell_type": "code",
      "metadata": {
        "id": "4Femz41zLmyt"
      },
      "source": [
        "X_train = X_train.drop(['year'],axis=1)"
      ],
      "execution_count": null,
      "outputs": []
    },
    {
      "cell_type": "code",
      "metadata": {
        "id": "xABUDpBiL0m9"
      },
      "source": [
        "X_train = X_train.drop(['household_size'],axis=1)"
      ],
      "execution_count": null,
      "outputs": []
    },
    {
      "cell_type": "code",
      "metadata": {
        "id": "SuEKLYg4L01d"
      },
      "source": [],
      "execution_count": null,
      "outputs": []
    },
    {
      "cell_type": "code",
      "metadata": {
        "id": "x3ut7rWgL08Q"
      },
      "source": [
        "X_train = X_train.drop(['household_size'],axis=1)"
      ],
      "execution_count": null,
      "outputs": []
    },
    {
      "cell_type": "code",
      "metadata": {
        "id": "osSOquimMfm3"
      },
      "source": [],
      "execution_count": null,
      "outputs": []
    },
    {
      "cell_type": "code",
      "metadata": {
        "id": "wmrs13_fMfq0"
      },
      "source": [],
      "execution_count": null,
      "outputs": []
    },
    {
      "cell_type": "code",
      "metadata": {
        "id": "rDL7JojMMfvC"
      },
      "source": [],
      "execution_count": null,
      "outputs": []
    },
    {
      "cell_type": "markdown",
      "metadata": {
        "id": "SbhqUiTqCRqf"
      },
      "source": [
        "I have created a simple preprocessing function to handle \n",
        "\n",
        "- conversion of data types\n",
        "- convert categorical features to numerical by one-hot encoding method and label encoding\n",
        "- drop uniqueid variable \n",
        "- scaling our data into range of 0 and 1 "
      ]
    },
    {
      "cell_type": "code",
      "metadata": {
        "id": "toKXjQzZCRqf"
      },
      "source": [
        "# function to preprocess our data from train models\n",
        "\n",
        "def preprocessing_data(data):\n",
        "\n",
        "    # Convert the following numerical labels from integer to float\n",
        "    float_array = data[[\"household_size\",\"age_of_respondent\"]].values.astype(\n",
        "        float\n",
        "    )\n",
        "\n",
        "    # categorical features to be converted by One Hot Encoding\n",
        "    categ = [\n",
        "        \"relationship_with_head\",\n",
        "        \"marital_status\",\n",
        "        \"education_level\",\n",
        "        \"job_type\",\n",
        "        \"country\",\n",
        "    ]\n",
        "\n",
        "    # One Hot Encoding conversion\n",
        "    data = pd.get_dummies(data, prefix_sep=\"_\", columns=categ)\n",
        "\n",
        "    # Label Encoder conversion\n",
        "    data[\"location_type\"] = le.fit_transform(data[\"location_type\"])\n",
        "    data[\"cellphone_access\"] = le.fit_transform(data[\"cellphone_access\"])\n",
        "    data[\"gender_of_respondent\"] = le.fit_transform(data[\"gender_of_respondent\"])\n",
        "\n",
        "    # drop uniquid column\n",
        "    data = data.drop([\"uniqueid\"], axis=1)\n",
        "    data = data.drop([\"cellphone_access\"], axis=1)\n",
        "\n",
        "    # scale our data into range of 0 and 1\n",
        "    scaler = MinMaxScaler(feature_range=(0, 1))\n",
        "    data = scaler.fit_transform(data)\n",
        "\n",
        "    return data"
      ],
      "execution_count": null,
      "outputs": []
    },
    {
      "cell_type": "code",
      "metadata": {
        "id": "9VB2TDVkCRqg"
      },
      "source": [
        "# preprocess the train data \n",
        "processed_train_data = preprocessing_data(X_train)"
      ],
      "execution_count": null,
      "outputs": []
    },
    {
      "cell_type": "code",
      "metadata": {
        "colab": {
          "base_uri": "https://localhost:8080/"
        },
        "id": "TAjHWNRICRqg",
        "outputId": "c867ac20-e016-4cdc-e7f1-30c49e3f27a7"
      },
      "source": [
        "# the first train row \n",
        "processed_train_data.shape"
      ],
      "execution_count": null,
      "outputs": [
        {
          "output_type": "execute_result",
          "data": {
            "text/plain": [
              "(23524, 35)"
            ]
          },
          "metadata": {},
          "execution_count": 95
        }
      ]
    },
    {
      "cell_type": "code",
      "metadata": {
        "id": "EwSapyo8CRqh"
      },
      "source": [
        "# preprocess the test data\n",
        "processed_test_data = preprocessing_data(test_data)"
      ],
      "execution_count": null,
      "outputs": []
    },
    {
      "cell_type": "code",
      "metadata": {
        "colab": {
          "base_uri": "https://localhost:8080/"
        },
        "id": "9HhpRXstCRqi",
        "outputId": "98bddce3-fe7f-4cb6-990a-5dd69907af1b"
      },
      "source": [
        "# the first test row\n",
        "processed_test_data.shape"
      ],
      "execution_count": null,
      "outputs": [
        {
          "output_type": "execute_result",
          "data": {
            "text/plain": [
              "(10086, 35)"
            ]
          },
          "metadata": {},
          "execution_count": 97
        }
      ]
    },
    {
      "cell_type": "code",
      "metadata": {
        "colab": {
          "base_uri": "https://localhost:8080/"
        },
        "id": "3kz7WBuUCRqi",
        "outputId": "29a8227a-46c3-4e33-bf44-ff15446aa2c2"
      },
      "source": [
        "# shape of the processed train set\n",
        "processed_train_data.shape "
      ],
      "execution_count": null,
      "outputs": [
        {
          "output_type": "execute_result",
          "data": {
            "text/plain": [
              "(23524, 37)"
            ]
          },
          "metadata": {},
          "execution_count": 14
        }
      ]
    },
    {
      "cell_type": "code",
      "metadata": {
        "colab": {
          "base_uri": "https://localhost:8080/"
        },
        "id": "9Im2wOXQCRqj",
        "outputId": "9a15af1a-4cc0-4231-e760-db270ecb88c7"
      },
      "source": [
        "# shape of the processed test set\n",
        "processed_test_data"
      ],
      "execution_count": null,
      "outputs": [
        {
          "output_type": "execute_result",
          "data": {
            "text/plain": [
              "array([[1., 1., 1., ..., 0., 0., 0.],\n",
              "       [1., 1., 1., ..., 0., 0., 0.],\n",
              "       [1., 0., 0., ..., 0., 0., 0.],\n",
              "       ...,\n",
              "       [1., 1., 1., ..., 0., 0., 1.],\n",
              "       [1., 0., 1., ..., 0., 0., 1.],\n",
              "       [1., 1., 1., ..., 0., 0., 1.]])"
            ]
          },
          "metadata": {},
          "execution_count": 58
        }
      ]
    },
    {
      "cell_type": "markdown",
      "metadata": {
        "id": "O6mmJzNqCRqj"
      },
      "source": [
        "### Model Building and Experiment "
      ]
    },
    {
      "cell_type": "code",
      "metadata": {
        "id": "Vj-PB4guCRqj"
      },
      "source": [
        "# Split train_data\n",
        "from sklearn.model_selection import train_test_split\n",
        "\n",
        "X_Train, X_val, y_Train, y_val = train_test_split(processed_train_data, y_train, stratify = y_train,\n",
        "                                                  test_size = 0.1, random_state=42)"
      ],
      "execution_count": null,
      "outputs": []
    },
    {
      "cell_type": "code",
      "metadata": {
        "colab": {
          "base_uri": "https://localhost:8080/"
        },
        "id": "LogItqEyCRqk",
        "outputId": "bb7c499e-4a8e-4aeb-e481-aeea8fe41e2e"
      },
      "source": [
        "#import classifier algorithm here \n",
        "from sklearn.linear_model import LogisticRegression\n",
        "from sklearn.ensemble import RandomForestClassifier\n",
        "from sklearn.neighbors import KNeighborsClassifier\n",
        "from sklearn.ensemble import ExtraTreesClassifier\n",
        "from xgboost import XGBClassifier \n",
        "import lightgbm as lgb\n",
        "from sklearn.svm import SVC \n",
        "\n",
        "# create models \n",
        "lg_model = LogisticRegression()\n",
        "rf_model = RandomForestClassifier()\n",
        "kn_model = KNeighborsClassifier()\n",
        "et_model = ExtraTreesClassifier()\n",
        "xg_model = XGBClassifier()\n",
        "lgb_model = lgb.LGBMClassifier(learning_rate=0.09,max_depth=-5,random_state=42)\n",
        "SVC_model = SVC(kernel='linear',random_state = 0)\n",
        "\n",
        "\n",
        "#fitting the models\n",
        "lg_model.fit(X_Train,y_Train)\n",
        "rf_model.fit(X_Train,y_Train)\n",
        "kn_model.fit(X_Train,y_Train)\n",
        "et_model.fit(X_Train,y_Train)\n",
        "xg_model.fit(X_Train,y_Train)\n",
        "lgb_model.fit(X_Train,y_Train,eval_set=[( X_val,y_val),(X_Train,y_Train)],verbose=20,eval_metric='logloss')\n",
        "SVC_model.fit(X_Train,y_Train)\n"
      ],
      "execution_count": null,
      "outputs": [
        {
          "output_type": "stream",
          "name": "stdout",
          "text": [
            "[20]\ttraining's binary_logloss: 0.28772\ttraining's binary_logloss: 0.28772\tvalid_0's binary_logloss: 0.289215\tvalid_0's binary_logloss: 0.289215\n",
            "[40]\ttraining's binary_logloss: 0.271869\ttraining's binary_logloss: 0.271869\tvalid_0's binary_logloss: 0.278648\tvalid_0's binary_logloss: 0.278648\n",
            "[60]\ttraining's binary_logloss: 0.26413\ttraining's binary_logloss: 0.26413\tvalid_0's binary_logloss: 0.277645\tvalid_0's binary_logloss: 0.277645\n",
            "[80]\ttraining's binary_logloss: 0.258768\ttraining's binary_logloss: 0.258768\tvalid_0's binary_logloss: 0.277713\tvalid_0's binary_logloss: 0.277713\n",
            "[100]\ttraining's binary_logloss: 0.253505\ttraining's binary_logloss: 0.253505\tvalid_0's binary_logloss: 0.278346\tvalid_0's binary_logloss: 0.278346\n"
          ]
        },
        {
          "output_type": "execute_result",
          "data": {
            "text/plain": [
              "SVC(C=1.0, break_ties=False, cache_size=200, class_weight=None, coef0=0.0,\n",
              "    decision_function_shape='ovr', degree=3, gamma='scale', kernel='linear',\n",
              "    max_iter=-1, probability=False, random_state=0, shrinking=True, tol=0.001,\n",
              "    verbose=False)"
            ]
          },
          "metadata": {},
          "execution_count": 144
        }
      ]
    },
    {
      "cell_type": "code",
      "metadata": {
        "id": "E4qXs5dSHG8h"
      },
      "source": [
        "models = {\"lg_model\" : LogisticRegression(),\n",
        "\"rf_model\" : RandomForestClassifier(),\n",
        "\"kn_model\" : KNeighborsClassifier(),\n",
        "\"et_model\" : ExtraTreesClassifier(),\n",
        "\"xg_model\" : XGBClassifier(),\n",
        "\"lgb_model\" : lgb.LGBMClassifier(),\n",
        "\"SVC_model\" : SVC()\n",
        "\n",
        "\n",
        "}\n",
        "def fit_and_score(models , X_Train , X_val , y_Train , y_val):\n",
        "  model_scores = {}\n",
        "  for name, model in models.items():\n",
        "    model.fit(X_Train,y_Train)\n",
        "    model_scores[name] = model.score(X_val,y_val)\n",
        "\n",
        "  return model_scores"
      ],
      "execution_count": null,
      "outputs": []
    },
    {
      "cell_type": "code",
      "metadata": {
        "id": "L5ALPfPUJFqL"
      },
      "source": [
        "model_scores = fit_and_score(models=models,\n",
        "                             X_Train=X_Train,\n",
        "                             X_val=X_val,\n",
        "                             y_Train=y_Train,\n",
        "                             y_val=y_val) "
      ],
      "execution_count": null,
      "outputs": []
    },
    {
      "cell_type": "code",
      "metadata": {
        "colab": {
          "base_uri": "https://localhost:8080/"
        },
        "id": "dXfnKJc5LXVW",
        "outputId": "506f4ae4-9df5-4446-bec9-29e623b8fe3e"
      },
      "source": [
        "model_scores"
      ],
      "execution_count": null,
      "outputs": [
        {
          "output_type": "execute_result",
          "data": {
            "text/plain": [
              "{'SVC_model': 0.8916277093072673,\n",
              " 'et_model': 0.8538036549086273,\n",
              " 'kn_model': 0.8810029749256268,\n",
              " 'lg_model': 0.8861028474288143,\n",
              " 'lgb_model': 0.8899277518062049,\n",
              " 'rf_model': 0.8644283892902678,\n",
              " 'xg_model': 0.8899277518062049}"
            ]
          },
          "metadata": {},
          "execution_count": 153
        }
      ]
    },
    {
      "cell_type": "code",
      "metadata": {
        "id": "ke-NaWrvQ_N3"
      },
      "source": [
        "# {'SVC_model': 0.8916277093072673,\n",
        "#  'et_model': 0.8559286017849553,\n",
        "#  'kn_model': 0.8810029749256268,\n",
        "#  'lg_model': 0.8861028474288143,\n",
        "#  'lgb_model': 0.8895027624309392,\n",
        "#  'rf_model': 0.8661283467913302,\n",
        "#  'xg_model': 0.8899277518062049}"
      ],
      "execution_count": null,
      "outputs": []
    },
    {
      "cell_type": "code",
      "metadata": {
        "colab": {
          "base_uri": "https://localhost:8080/",
          "height": 324
        },
        "id": "7_JQUmZdLjFc",
        "outputId": "985c2690-6ddf-4769-8bed-cde4b9916846"
      },
      "source": [
        "model_compare = pd.DataFrame(model_scores,index=[\"accuracy\"])\n",
        "model_compare.T.plot.bar()"
      ],
      "execution_count": null,
      "outputs": [
        {
          "output_type": "execute_result",
          "data": {
            "text/plain": [
              "<matplotlib.axes._subplots.AxesSubplot at 0x7ff5d817f2d0>"
            ]
          },
          "metadata": {},
          "execution_count": 40
        },
        {
          "output_type": "display_data",
          "data": {
            "image/png": "[encoded data removed]",
            "text/plain": [
              "<Figure size 432x288 with 1 Axes>"
            ]
          },
          "metadata": {
            "needs_background": "light"
          }
        }
      ]
    },
    {
      "cell_type": "code",
      "metadata": {
        "id": "4hr3uMHlMV_i"
      },
      "source": [],
      "execution_count": null,
      "outputs": []
    },
    {
      "cell_type": "code",
      "metadata": {
        "id": "_4jukAY6MWPB"
      },
      "source": [],
      "execution_count": null,
      "outputs": []
    },
    {
      "cell_type": "code",
      "metadata": {
        "colab": {
          "base_uri": "https://localhost:8080/"
        },
        "id": "l2w6BcEyCRqm",
        "outputId": "1d3cdfb7-5934-4f02-f7de-f62b8a9c8837"
      },
      "source": [
        "# import evaluation metrics\n",
        "from sklearn.metrics import confusion_matrix, accuracy_score\n",
        "\n",
        "# evaluate the model\n",
        "lg_y_pred = lg_model.predict(X_val)\n",
        "rf_y_pred = rf_model.predict(X_val)\n",
        "kn_y_pred = kn_model.predict(X_val)\n",
        "et_y_pred = et_model.predict(X_val)\n",
        "xg_y_pred = xg_model.predict(X_val)\n",
        "lgb_y_pred = lgb_model.predict(X_val)\n",
        "SVC_y_pred = SVC_model.predict(X_val)\n",
        "\n",
        "# Get error rate\n",
        "print(\"Error rate of Logistic Regression classifier: \", 1 - accuracy_score(y_val, lg_y_pred))\n",
        "print(\"Error rate of Random Forest classifier: \", 1 - accuracy_score(y_val, rf_y_pred))\n",
        "print(\"Error rate of KNeighbors Classifier: \", 1 - accuracy_score(y_val, kn_y_pred))\n",
        "print(\"Error rate of Extra Tree classifier: \", 1 - accuracy_score(y_val, et_y_pred))\n",
        "print(\"Error rate of XGB classifier: \", 1 - accuracy_score(y_val, xg_y_pred))\n",
        "print(\"Error rate of lGB classifier: \", 1 - accuracy_score(y_val, lgb_y_pred))\n",
        "print(\"Error rate of lGB classifier: \", 1 - accuracy_score(y_val, lgb_y_pred))\n",
        "print(\"Error rate of SVC classifier: \", 1 - accuracy_score(y_val, SVC_y_pred))\n",
        "\n"
      ],
      "execution_count": null,
      "outputs": [
        {
          "output_type": "stream",
          "name": "stdout",
          "text": [
            "Error rate of Logistic Regression classifier:  0.11389715257118571\n",
            "Error rate of Random Forest classifier:  0.1334466638334042\n",
            "Error rate of KNeighbors Classifier:  0.11899702507437315\n",
            "Error rate of Extra Tree classifier:  0.1457713557161071\n",
            "Error rate of XGB classifier:  0.11007224819379513\n",
            "Error rate of lGB classifier:  0.11049723756906082\n",
            "Error rate of lGB classifier:  0.11049723756906082\n",
            "Error rate of SVC classifier:  0.12324691882702932\n"
          ]
        }
      ]
    },
    {
      "cell_type": "code",
      "metadata": {
        "id": "TSpih7nLCRqm",
        "outputId": "76ce5afd-05ea-4732-8aa2-92ea566f09f9"
      },
      "source": [
        "# Error rate of Logistic Regression classifier:  0.11219719507012327\n",
        "# Error rate of Random Forest classifier:  0.13557161070973223\n",
        "# Error rate of KNeighbors Classifier:  0.11814704632384188\n",
        "# Error rate of Extra Tree classifier:  0.14109647258818525\n",
        "# Error rate of XGB classifier:  0.10922226944326396\n",
        "# Error rate of lGB classifier:  0.10879728006799827"
      ],
      "execution_count": null,
      "outputs": [
        {
          "name": "stdout",
          "output_type": "stream",
          "text": [
            "Error rate of XGB classifier:  0.10964725881852955\n"
          ]
        }
      ]
    },
    {
      "cell_type": "markdown",
      "metadata": {
        "id": "x3PyoQ1aCRqn"
      },
      "source": [
        "XGB Classifier performs better than others classifiers.\n",
        "\n",
        "let's check the confusion matrix for XGB Classifier"
      ]
    },
    {
      "cell_type": "code",
      "metadata": {
        "colab": {
          "base_uri": "https://localhost:8080/",
          "height": 296
        },
        "id": "zgCGpk41CRqo",
        "outputId": "92935c3f-5534-4193-efb9-f9360fdf6969"
      },
      "source": [
        "from sklearn.metrics import plot_confusion_matrix\n",
        "\n",
        "# Get confusion matrix for Gradient Boosting Classifier \n",
        "plot_confusion_matrix(xg_model,X_val, y_val,normalize='true')"
      ],
      "execution_count": null,
      "outputs": [
        {
          "output_type": "execute_result",
          "data": {
            "text/plain": [
              "<sklearn.metrics._plot.confusion_matrix.ConfusionMatrixDisplay at 0x7fd1fc9a1b90>"
            ]
          },
          "metadata": {},
          "execution_count": 157
        },
        {
          "output_type": "display_data",
          "data": {
            "image/png": "[encoded data removed]",
            "text/plain": [
              "<Figure size 432x288 with 2 Axes>"
            ]
          },
          "metadata": {
            "needs_background": "light"
          }
        }
      ]
    },
    {
      "cell_type": "code",
      "metadata": {
        "id": "Senrn97ICRqo"
      },
      "source": [
        "# Import GridSearchCV\n",
        "from sklearn.model_selection import GridSearchCV"
      ],
      "execution_count": null,
      "outputs": []
    },
    {
      "cell_type": "code",
      "metadata": {
        "colab": {
          "base_uri": "https://localhost:8080/"
        },
        "id": "SQf2uKsiCRqp",
        "outputId": "15de3eb0-28c9-42df-e224-fe75d4195b09"
      },
      "source": [
        "# Optimize model paramaters \n",
        "# I run this code in google colab to make the execution much faster and use the best params in the next code\n",
        "param_grid = {'min_child_weight': [1, 5, 10],\n",
        "        'gamma': [0.5, 1],\n",
        "        'subsample': [0.6, 0.8, 1.0],\n",
        "        'max_depth': [3,5]\n",
        "        }\n",
        "my_xgb_model = GridSearchCV(xg_model, param_grid,n_jobs=-1,verbose=2,cv=5)\n",
        "my_xgb_model.fit(X_Train, y_Train)\n",
        "print(my_xgb_model.best_params_)"
      ],
      "execution_count": null,
      "outputs": [
        {
          "output_type": "stream",
          "name": "stdout",
          "text": [
            "Fitting 5 folds for each of 36 candidates, totalling 180 fits\n"
          ]
        },
        {
          "output_type": "stream",
          "name": "stderr",
          "text": [
            "[Parallel(n_jobs=-1)]: Using backend LokyBackend with 2 concurrent workers.\n",
            "[Parallel(n_jobs=-1)]: Done  37 tasks      | elapsed:   59.0s\n",
            "[Parallel(n_jobs=-1)]: Done 158 tasks      | elapsed:  4.9min\n",
            "[Parallel(n_jobs=-1)]: Done 180 out of 180 | elapsed:  5.7min finished\n"
          ]
        },
        {
          "output_type": "stream",
          "name": "stdout",
          "text": [
            "{'gamma': 1, 'max_depth': 5, 'min_child_weight': 10, 'subsample': 0.6}\n"
          ]
        }
      ]
    },
    {
      "cell_type": "code",
      "metadata": {
        "colab": {
          "base_uri": "https://localhost:8080/"
        },
        "id": "Ar27EQEDCRqp",
        "outputId": "a4d76b30-0f0b-4c57-f563-31a7a6297daf"
      },
      "source": [
        "from sklearn.metrics import confusion_matrix, accuracy_score\n",
        "\n",
        "\n",
        "# fit by setting best parameters and Evaluate model\n",
        "my_xgb_model = XGBClassifier(min_child_weight=1, gamma=1, subsample=0.8, max_depth=5)\n",
        "\n",
        "my_xgb_model.fit(X_Train, y_Train)\n",
        "y_pred = my_xgb_model.predict(X_val)\n",
        "\n",
        "# Get error rate\n",
        "print(\"Error rate of the  XGB classifier: \", 1 - accuracy_score(y_val, y_pred))"
      ],
      "execution_count": null,
      "outputs": [
        {
          "output_type": "stream",
          "name": "stdout",
          "text": [
            "Error rate of the  XGB classifier:  0.10922226944326396\n"
          ]
        }
      ]
    },
    {
      "cell_type": "code",
      "metadata": {
        "id": "07fXNZBIOo6L"
      },
      "source": [
        "# Error rate of the  XGB classifier:  0.10879728006799827"
      ],
      "execution_count": null,
      "outputs": []
    },
    {
      "cell_type": "code",
      "metadata": {
        "id": "fRAu7IfiRp4c"
      },
      "source": [
        "\n"
      ],
      "execution_count": null,
      "outputs": []
    },
    {
      "cell_type": "markdown",
      "metadata": {
        "id": "2YhsbWVDCRqq"
      },
      "source": [
        "Our model has been improved "
      ]
    },
    {
      "cell_type": "code",
      "metadata": {
        "id": "eNcgE_47CRqq"
      },
      "source": [
        "# Get the predicted result for the test Data\n",
        "test_data.bank_account =my_xgb_model.predict(processed_test_data)"
      ],
      "execution_count": null,
      "outputs": []
    },
    {
      "cell_type": "code",
      "metadata": {
        "id": "E5T45OYPCRqq"
      },
      "source": [
        "# create submission DataFrame\n",
        "submission = pd.DataFrame({\"uniqueid\": test_data[\"uniqueid\"] + \" x \" + test_data[\"country\"],\n",
        "\n",
        "\"bank_account\": test_data.bank_account})"
      ],
      "execution_count": null,
      "outputs": []
    },
    {
      "cell_type": "code",
      "metadata": {
        "colab": {
          "base_uri": "https://localhost:8080/",
          "height": 1000
        },
        "id": "82xt-FQGCRqr",
        "outputId": "cc89aefd-7cc9-407e-c57c-8f6aff94821f"
      },
      "source": [
        "#show the five sample\n",
        "submission.sample(50)"
      ],
      "execution_count": null,
      "outputs": [
        {
          "output_type": "execute_result",
          "data": {
            "text/html": [
              "<div>\n",
              "<style scoped>\n",
              "    .dataframe tbody tr th:only-of-type {\n",
              "        vertical-align: middle;\n",
              "    }\n",
              "\n",
              "    .dataframe tbody tr th {\n",
              "        vertical-align: top;\n",
              "    }\n",
              "\n",
              "    .dataframe thead th {\n",
              "        text-align: right;\n",
              "    }\n",
              "</style>\n",
              "<table border=\"1\" class=\"dataframe\">\n",
              "  <thead>\n",
              "    <tr style=\"text-align: right;\">\n",
              "      <th></th>\n",
              "      <th>uniqueid</th>\n",
              "      <th>bank_account</th>\n",
              "    </tr>\n",
              "  </thead>\n",
              "  <tbody>\n",
              "    <tr>\n",
              "      <th>7817</th>\n",
              "      <td>uniqueid_8092 x Tanzania</td>\n",
              "      <td>0</td>\n",
              "    </tr>\n",
              "    <tr>\n",
              "      <th>5942</th>\n",
              "      <td>uniqueid_12077 x Rwanda</td>\n",
              "      <td>0</td>\n",
              "    </tr>\n",
              "    <tr>\n",
              "      <th>517</th>\n",
              "      <td>uniqueid_6586 x Kenya</td>\n",
              "      <td>0</td>\n",
              "    </tr>\n",
              "    <tr>\n",
              "      <th>8270</th>\n",
              "      <td>uniqueid_8545 x Tanzania</td>\n",
              "      <td>0</td>\n",
              "    </tr>\n",
              "    <tr>\n",
              "      <th>9896</th>\n",
              "      <td>uniqueid_2813 x Uganda</td>\n",
              "      <td>0</td>\n",
              "    </tr>\n",
              "    <tr>\n",
              "      <th>755</th>\n",
              "      <td>uniqueid_6824 x Kenya</td>\n",
              "      <td>0</td>\n",
              "    </tr>\n",
              "    <tr>\n",
              "      <th>7114</th>\n",
              "      <td>uniqueid_7389 x Tanzania</td>\n",
              "      <td>0</td>\n",
              "    </tr>\n",
              "    <tr>\n",
              "      <th>9242</th>\n",
              "      <td>uniqueid_2159 x Uganda</td>\n",
              "      <td>0</td>\n",
              "    </tr>\n",
              "    <tr>\n",
              "      <th>185</th>\n",
              "      <td>uniqueid_6254 x Kenya</td>\n",
              "      <td>0</td>\n",
              "    </tr>\n",
              "    <tr>\n",
              "      <th>9888</th>\n",
              "      <td>uniqueid_2805 x Uganda</td>\n",
              "      <td>0</td>\n",
              "    </tr>\n",
              "    <tr>\n",
              "      <th>1487</th>\n",
              "      <td>uniqueid_7556 x Kenya</td>\n",
              "      <td>1</td>\n",
              "    </tr>\n",
              "    <tr>\n",
              "      <th>2239</th>\n",
              "      <td>uniqueid_8308 x Kenya</td>\n",
              "      <td>0</td>\n",
              "    </tr>\n",
              "    <tr>\n",
              "      <th>1174</th>\n",
              "      <td>uniqueid_7243 x Kenya</td>\n",
              "      <td>0</td>\n",
              "    </tr>\n",
              "    <tr>\n",
              "      <th>5053</th>\n",
              "      <td>uniqueid_11188 x Rwanda</td>\n",
              "      <td>0</td>\n",
              "    </tr>\n",
              "    <tr>\n",
              "      <th>3147</th>\n",
              "      <td>uniqueid_9282 x Rwanda</td>\n",
              "      <td>0</td>\n",
              "    </tr>\n",
              "    <tr>\n",
              "      <th>6020</th>\n",
              "      <td>uniqueid_12155 x Rwanda</td>\n",
              "      <td>0</td>\n",
              "    </tr>\n",
              "    <tr>\n",
              "      <th>5927</th>\n",
              "      <td>uniqueid_12062 x Rwanda</td>\n",
              "      <td>1</td>\n",
              "    </tr>\n",
              "    <tr>\n",
              "      <th>4937</th>\n",
              "      <td>uniqueid_11072 x Rwanda</td>\n",
              "      <td>0</td>\n",
              "    </tr>\n",
              "    <tr>\n",
              "      <th>2468</th>\n",
              "      <td>uniqueid_8537 x Kenya</td>\n",
              "      <td>0</td>\n",
              "    </tr>\n",
              "    <tr>\n",
              "      <th>9040</th>\n",
              "      <td>uniqueid_9315 x Tanzania</td>\n",
              "      <td>0</td>\n",
              "    </tr>\n",
              "    <tr>\n",
              "      <th>9204</th>\n",
              "      <td>uniqueid_2121 x Uganda</td>\n",
              "      <td>0</td>\n",
              "    </tr>\n",
              "    <tr>\n",
              "      <th>3329</th>\n",
              "      <td>uniqueid_9464 x Rwanda</td>\n",
              "      <td>0</td>\n",
              "    </tr>\n",
              "    <tr>\n",
              "      <th>1700</th>\n",
              "      <td>uniqueid_7769 x Kenya</td>\n",
              "      <td>0</td>\n",
              "    </tr>\n",
              "    <tr>\n",
              "      <th>3846</th>\n",
              "      <td>uniqueid_9981 x Rwanda</td>\n",
              "      <td>0</td>\n",
              "    </tr>\n",
              "    <tr>\n",
              "      <th>3394</th>\n",
              "      <td>uniqueid_9529 x Rwanda</td>\n",
              "      <td>0</td>\n",
              "    </tr>\n",
              "    <tr>\n",
              "      <th>9286</th>\n",
              "      <td>uniqueid_2203 x Uganda</td>\n",
              "      <td>0</td>\n",
              "    </tr>\n",
              "    <tr>\n",
              "      <th>6223</th>\n",
              "      <td>uniqueid_12358 x Rwanda</td>\n",
              "      <td>0</td>\n",
              "    </tr>\n",
              "    <tr>\n",
              "      <th>7044</th>\n",
              "      <td>uniqueid_7319 x Tanzania</td>\n",
              "      <td>0</td>\n",
              "    </tr>\n",
              "    <tr>\n",
              "      <th>5507</th>\n",
              "      <td>uniqueid_11642 x Rwanda</td>\n",
              "      <td>0</td>\n",
              "    </tr>\n",
              "    <tr>\n",
              "      <th>253</th>\n",
              "      <td>uniqueid_6322 x Kenya</td>\n",
              "      <td>0</td>\n",
              "    </tr>\n",
              "    <tr>\n",
              "      <th>8257</th>\n",
              "      <td>uniqueid_8532 x Tanzania</td>\n",
              "      <td>0</td>\n",
              "    </tr>\n",
              "    <tr>\n",
              "      <th>3506</th>\n",
              "      <td>uniqueid_9641 x Rwanda</td>\n",
              "      <td>0</td>\n",
              "    </tr>\n",
              "    <tr>\n",
              "      <th>1628</th>\n",
              "      <td>uniqueid_7697 x Kenya</td>\n",
              "      <td>0</td>\n",
              "    </tr>\n",
              "    <tr>\n",
              "      <th>7085</th>\n",
              "      <td>uniqueid_7360 x Tanzania</td>\n",
              "      <td>0</td>\n",
              "    </tr>\n",
              "    <tr>\n",
              "      <th>3623</th>\n",
              "      <td>uniqueid_9758 x Rwanda</td>\n",
              "      <td>0</td>\n",
              "    </tr>\n",
              "    <tr>\n",
              "      <th>2589</th>\n",
              "      <td>uniqueid_8658 x Kenya</td>\n",
              "      <td>1</td>\n",
              "    </tr>\n",
              "    <tr>\n",
              "      <th>9927</th>\n",
              "      <td>uniqueid_2844 x Uganda</td>\n",
              "      <td>1</td>\n",
              "    </tr>\n",
              "    <tr>\n",
              "      <th>4638</th>\n",
              "      <td>uniqueid_10773 x Rwanda</td>\n",
              "      <td>0</td>\n",
              "    </tr>\n",
              "    <tr>\n",
              "      <th>9601</th>\n",
              "      <td>uniqueid_2518 x Uganda</td>\n",
              "      <td>0</td>\n",
              "    </tr>\n",
              "    <tr>\n",
              "      <th>2273</th>\n",
              "      <td>uniqueid_8342 x Kenya</td>\n",
              "      <td>0</td>\n",
              "    </tr>\n",
              "    <tr>\n",
              "      <th>1315</th>\n",
              "      <td>uniqueid_7384 x Kenya</td>\n",
              "      <td>0</td>\n",
              "    </tr>\n",
              "    <tr>\n",
              "      <th>4225</th>\n",
              "      <td>uniqueid_10360 x Rwanda</td>\n",
              "      <td>0</td>\n",
              "    </tr>\n",
              "    <tr>\n",
              "      <th>8648</th>\n",
              "      <td>uniqueid_8923 x Tanzania</td>\n",
              "      <td>1</td>\n",
              "    </tr>\n",
              "    <tr>\n",
              "      <th>5673</th>\n",
              "      <td>uniqueid_11808 x Rwanda</td>\n",
              "      <td>0</td>\n",
              "    </tr>\n",
              "    <tr>\n",
              "      <th>3809</th>\n",
              "      <td>uniqueid_9944 x Rwanda</td>\n",
              "      <td>0</td>\n",
              "    </tr>\n",
              "    <tr>\n",
              "      <th>3012</th>\n",
              "      <td>uniqueid_9147 x Rwanda</td>\n",
              "      <td>0</td>\n",
              "    </tr>\n",
              "    <tr>\n",
              "      <th>4493</th>\n",
              "      <td>uniqueid_10628 x Rwanda</td>\n",
              "      <td>0</td>\n",
              "    </tr>\n",
              "    <tr>\n",
              "      <th>2264</th>\n",
              "      <td>uniqueid_8333 x Kenya</td>\n",
              "      <td>0</td>\n",
              "    </tr>\n",
              "    <tr>\n",
              "      <th>479</th>\n",
              "      <td>uniqueid_6548 x Kenya</td>\n",
              "      <td>0</td>\n",
              "    </tr>\n",
              "    <tr>\n",
              "      <th>8566</th>\n",
              "      <td>uniqueid_8841 x Tanzania</td>\n",
              "      <td>0</td>\n",
              "    </tr>\n",
              "  </tbody>\n",
              "</table>\n",
              "</div>"
            ],
            "text/plain": [
              "                      uniqueid  bank_account\n",
              "7817  uniqueid_8092 x Tanzania             0\n",
              "5942   uniqueid_12077 x Rwanda             0\n",
              "517      uniqueid_6586 x Kenya             0\n",
              "8270  uniqueid_8545 x Tanzania             0\n",
              "9896    uniqueid_2813 x Uganda             0\n",
              "755      uniqueid_6824 x Kenya             0\n",
              "7114  uniqueid_7389 x Tanzania             0\n",
              "9242    uniqueid_2159 x Uganda             0\n",
              "185      uniqueid_6254 x Kenya             0\n",
              "9888    uniqueid_2805 x Uganda             0\n",
              "1487     uniqueid_7556 x Kenya             1\n",
              "2239     uniqueid_8308 x Kenya             0\n",
              "1174     uniqueid_7243 x Kenya             0\n",
              "5053   uniqueid_11188 x Rwanda             0\n",
              "3147    uniqueid_9282 x Rwanda             0\n",
              "6020   uniqueid_12155 x Rwanda             0\n",
              "5927   uniqueid_12062 x Rwanda             1\n",
              "4937   uniqueid_11072 x Rwanda             0\n",
              "2468     uniqueid_8537 x Kenya             0\n",
              "9040  uniqueid_9315 x Tanzania             0\n",
              "9204    uniqueid_2121 x Uganda             0\n",
              "3329    uniqueid_9464 x Rwanda             0\n",
              "1700     uniqueid_7769 x Kenya             0\n",
              "3846    uniqueid_9981 x Rwanda             0\n",
              "3394    uniqueid_9529 x Rwanda             0\n",
              "9286    uniqueid_2203 x Uganda             0\n",
              "6223   uniqueid_12358 x Rwanda             0\n",
              "7044  uniqueid_7319 x Tanzania             0\n",
              "5507   uniqueid_11642 x Rwanda             0\n",
              "253      uniqueid_6322 x Kenya             0\n",
              "8257  uniqueid_8532 x Tanzania             0\n",
              "3506    uniqueid_9641 x Rwanda             0\n",
              "1628     uniqueid_7697 x Kenya             0\n",
              "7085  uniqueid_7360 x Tanzania             0\n",
              "3623    uniqueid_9758 x Rwanda             0\n",
              "2589     uniqueid_8658 x Kenya             1\n",
              "9927    uniqueid_2844 x Uganda             1\n",
              "4638   uniqueid_10773 x Rwanda             0\n",
              "9601    uniqueid_2518 x Uganda             0\n",
              "2273     uniqueid_8342 x Kenya             0\n",
              "1315     uniqueid_7384 x Kenya             0\n",
              "4225   uniqueid_10360 x Rwanda             0\n",
              "8648  uniqueid_8923 x Tanzania             1\n",
              "5673   uniqueid_11808 x Rwanda             0\n",
              "3809    uniqueid_9944 x Rwanda             0\n",
              "3012    uniqueid_9147 x Rwanda             0\n",
              "4493   uniqueid_10628 x Rwanda             0\n",
              "2264     uniqueid_8333 x Kenya             0\n",
              "479      uniqueid_6548 x Kenya             0\n",
              "8566  uniqueid_8841 x Tanzania             0"
            ]
          },
          "metadata": {},
          "execution_count": 135
        }
      ]
    },
    {
      "cell_type": "code",
      "metadata": {
        "id": "YXQYiMbsCRqr"
      },
      "source": [
        "# Create submission csv file\n",
        "submission.to_csv('/content/drive/MyDrive/zindi/submission_16.csv', index = False)"
      ],
      "execution_count": null,
      "outputs": []
    },
    {
      "cell_type": "markdown",
      "metadata": {
        "id": "mWccxTvhCRqr"
      },
      "source": [
        "Upload your **first_submission.csv** in the zindi competition"
      ]
    },
    {
      "cell_type": "code",
      "metadata": {
        "id": "s0mZ8SQNCRqs"
      },
      "source": [
        "from sklearn.model_selection import train_test_split\n",
        "\n",
        "X_Train, X_val, y_Train, y_val = train_test_split(processed_train_data, y_train, stratify = y_train,\n",
        "                                                  test_size = 0.1, random_state=42)"
      ],
      "execution_count": null,
      "outputs": []
    },
    {
      "cell_type": "code",
      "metadata": {
        "id": "2PK_6w3dLVuC"
      },
      "source": [
        "import lightgbm as lgb\n",
        "lgb_train = lgb.Dataset(X_Train, y_Train)\n",
        "lgb_test = lgb.Dataset(X_val, y_val)"
      ],
      "execution_count": null,
      "outputs": []
    },
    {
      "cell_type": "code",
      "metadata": {
        "id": "NtzaDXOWLVxb"
      },
      "source": [
        "params = {\n",
        "'boosting_type': 'gbdt',\n",
        "'objective': 'multiclass',\n",
        "'metric': 'multi_logloss',\n",
        "'num_class':9\n",
        "}"
      ],
      "execution_count": null,
      "outputs": []
    },
    {
      "cell_type": "code",
      "metadata": {
        "colab": {
          "base_uri": "https://localhost:8080/"
        },
        "id": "TXyt-60aLhlm",
        "outputId": "8b4d10de-4abe-475d-cb69-9e1e421a7a6b"
      },
      "source": [
        "gbm = lgb.train(\n",
        "params,\n",
        "lgb_train,\n",
        "num_boost_round=500,\n",
        "valid_sets=[lgb_train, lgb_test],\n",
        "early_stopping_rounds=10\n",
        ")\n"
      ],
      "execution_count": null,
      "outputs": [
        {
          "output_type": "stream",
          "name": "stdout",
          "text": [
            "[1]\ttraining's multi_logloss: 0.380015\tvalid_1's multi_logloss: 0.379298\n",
            "Training until validation scores don't improve for 10 rounds.\n",
            "[2]\ttraining's multi_logloss: 0.362967\tvalid_1's multi_logloss: 0.361916\n",
            "[3]\ttraining's multi_logloss: 0.349421\tvalid_1's multi_logloss: 0.348784\n",
            "[4]\ttraining's multi_logloss: 0.339176\tvalid_1's multi_logloss: 0.338789\n",
            "[5]\ttraining's multi_logloss: 0.330559\tvalid_1's multi_logloss: 0.330336\n",
            "[6]\ttraining's multi_logloss: 0.322877\tvalid_1's multi_logloss: 0.323129\n",
            "[7]\ttraining's multi_logloss: 0.316355\tvalid_1's multi_logloss: 0.31678\n",
            "[8]\ttraining's multi_logloss: 0.31091\tvalid_1's multi_logloss: 0.311819\n",
            "[9]\ttraining's multi_logloss: 0.306225\tvalid_1's multi_logloss: 0.307294\n",
            "[10]\ttraining's multi_logloss: 0.302182\tvalid_1's multi_logloss: 0.303415\n",
            "[11]\ttraining's multi_logloss: 0.298517\tvalid_1's multi_logloss: 0.299951\n",
            "[12]\ttraining's multi_logloss: 0.295482\tvalid_1's multi_logloss: 0.297145\n",
            "[13]\ttraining's multi_logloss: 0.292728\tvalid_1's multi_logloss: 0.294419\n",
            "[14]\ttraining's multi_logloss: 0.289962\tvalid_1's multi_logloss: 0.291916\n",
            "[15]\ttraining's multi_logloss: 0.287857\tvalid_1's multi_logloss: 0.289809\n",
            "[16]\ttraining's multi_logloss: 0.285702\tvalid_1's multi_logloss: 0.288012\n",
            "[17]\ttraining's multi_logloss: 0.283994\tvalid_1's multi_logloss: 0.286592\n",
            "[18]\ttraining's multi_logloss: 0.282379\tvalid_1's multi_logloss: 0.28502\n",
            "[19]\ttraining's multi_logloss: 0.28097\tvalid_1's multi_logloss: 0.283982\n",
            "[20]\ttraining's multi_logloss: 0.279647\tvalid_1's multi_logloss: 0.282943\n",
            "[21]\ttraining's multi_logloss: 0.278377\tvalid_1's multi_logloss: 0.28198\n",
            "[22]\ttraining's multi_logloss: 0.277295\tvalid_1's multi_logloss: 0.280896\n",
            "[23]\ttraining's multi_logloss: 0.276304\tvalid_1's multi_logloss: 0.280291\n",
            "[24]\ttraining's multi_logloss: 0.274937\tvalid_1's multi_logloss: 0.279197\n",
            "[25]\ttraining's multi_logloss: 0.273762\tvalid_1's multi_logloss: 0.278101\n",
            "[26]\ttraining's multi_logloss: 0.272904\tvalid_1's multi_logloss: 0.277545\n",
            "[27]\ttraining's multi_logloss: 0.272124\tvalid_1's multi_logloss: 0.277278\n",
            "[28]\ttraining's multi_logloss: 0.271269\tvalid_1's multi_logloss: 0.276677\n",
            "[29]\ttraining's multi_logloss: 0.27058\tvalid_1's multi_logloss: 0.276054\n",
            "[30]\ttraining's multi_logloss: 0.26986\tvalid_1's multi_logloss: 0.275727\n",
            "[31]\ttraining's multi_logloss: 0.269255\tvalid_1's multi_logloss: 0.275734\n",
            "[32]\ttraining's multi_logloss: 0.26854\tvalid_1's multi_logloss: 0.275213\n",
            "[33]\ttraining's multi_logloss: 0.267932\tvalid_1's multi_logloss: 0.274792\n",
            "[34]\ttraining's multi_logloss: 0.267262\tvalid_1's multi_logloss: 0.27469\n",
            "[35]\ttraining's multi_logloss: 0.266748\tvalid_1's multi_logloss: 0.274263\n",
            "[36]\ttraining's multi_logloss: 0.266208\tvalid_1's multi_logloss: 0.274081\n",
            "[37]\ttraining's multi_logloss: 0.265638\tvalid_1's multi_logloss: 0.273867\n",
            "[38]\ttraining's multi_logloss: 0.265034\tvalid_1's multi_logloss: 0.273574\n",
            "[39]\ttraining's multi_logloss: 0.264471\tvalid_1's multi_logloss: 0.273245\n",
            "[40]\ttraining's multi_logloss: 0.264026\tvalid_1's multi_logloss: 0.272955\n",
            "[41]\ttraining's multi_logloss: 0.263477\tvalid_1's multi_logloss: 0.272856\n",
            "[42]\ttraining's multi_logloss: 0.262986\tvalid_1's multi_logloss: 0.272832\n",
            "[43]\ttraining's multi_logloss: 0.262516\tvalid_1's multi_logloss: 0.273092\n",
            "[44]\ttraining's multi_logloss: 0.262103\tvalid_1's multi_logloss: 0.273074\n",
            "[45]\ttraining's multi_logloss: 0.261694\tvalid_1's multi_logloss: 0.272962\n",
            "[46]\ttraining's multi_logloss: 0.261188\tvalid_1's multi_logloss: 0.273007\n",
            "[47]\ttraining's multi_logloss: 0.260712\tvalid_1's multi_logloss: 0.272757\n",
            "[48]\ttraining's multi_logloss: 0.260213\tvalid_1's multi_logloss: 0.272599\n",
            "[49]\ttraining's multi_logloss: 0.259766\tvalid_1's multi_logloss: 0.272542\n",
            "[50]\ttraining's multi_logloss: 0.259327\tvalid_1's multi_logloss: 0.272415\n",
            "[51]\ttraining's multi_logloss: 0.258956\tvalid_1's multi_logloss: 0.272181\n",
            "[52]\ttraining's multi_logloss: 0.25859\tvalid_1's multi_logloss: 0.272435\n",
            "[53]\ttraining's multi_logloss: 0.258197\tvalid_1's multi_logloss: 0.272202\n",
            "[54]\ttraining's multi_logloss: 0.257837\tvalid_1's multi_logloss: 0.272146\n",
            "[55]\ttraining's multi_logloss: 0.257532\tvalid_1's multi_logloss: 0.272073\n",
            "[56]\ttraining's multi_logloss: 0.257174\tvalid_1's multi_logloss: 0.272002\n",
            "[57]\ttraining's multi_logloss: 0.256843\tvalid_1's multi_logloss: 0.272027\n",
            "[58]\ttraining's multi_logloss: 0.25648\tvalid_1's multi_logloss: 0.271903\n",
            "[59]\ttraining's multi_logloss: 0.25617\tvalid_1's multi_logloss: 0.272064\n",
            "[60]\ttraining's multi_logloss: 0.255768\tvalid_1's multi_logloss: 0.271898\n",
            "[61]\ttraining's multi_logloss: 0.255405\tvalid_1's multi_logloss: 0.271917\n",
            "[62]\ttraining's multi_logloss: 0.255103\tvalid_1's multi_logloss: 0.271997\n",
            "[63]\ttraining's multi_logloss: 0.254756\tvalid_1's multi_logloss: 0.272144\n",
            "[64]\ttraining's multi_logloss: 0.254475\tvalid_1's multi_logloss: 0.271897\n",
            "[65]\ttraining's multi_logloss: 0.254028\tvalid_1's multi_logloss: 0.271876\n",
            "[66]\ttraining's multi_logloss: 0.253509\tvalid_1's multi_logloss: 0.272071\n",
            "[67]\ttraining's multi_logloss: 0.253193\tvalid_1's multi_logloss: 0.272114\n",
            "[68]\ttraining's multi_logloss: 0.252846\tvalid_1's multi_logloss: 0.272077\n",
            "[69]\ttraining's multi_logloss: 0.252493\tvalid_1's multi_logloss: 0.272107\n",
            "[70]\ttraining's multi_logloss: 0.25218\tvalid_1's multi_logloss: 0.272012\n",
            "[71]\ttraining's multi_logloss: 0.251873\tvalid_1's multi_logloss: 0.272274\n",
            "[72]\ttraining's multi_logloss: 0.251505\tvalid_1's multi_logloss: 0.272499\n",
            "[73]\ttraining's multi_logloss: 0.251262\tvalid_1's multi_logloss: 0.27227\n",
            "[74]\ttraining's multi_logloss: 0.251023\tvalid_1's multi_logloss: 0.27226\n",
            "[75]\ttraining's multi_logloss: 0.250739\tvalid_1's multi_logloss: 0.272438\n",
            "Early stopping, best iteration is:\n",
            "[65]\ttraining's multi_logloss: 0.254028\tvalid_1's multi_logloss: 0.271876\n"
          ]
        }
      ]
    },
    {
      "cell_type": "code",
      "metadata": {
        "colab": {
          "base_uri": "https://localhost:8080/",
          "height": 178
        },
        "id": "WuIW7HXwLhrA",
        "outputId": "e8cf5911-0ffa-47e0-9cbc-3cfc0877499e"
      },
      "source": [
        "\n",
        "test_data.bank_account = lgm.predict(processed_test_data)\n"
      ],
      "execution_count": null,
      "outputs": [
        {
          "output_type": "error",
          "ename": "NameError",
          "evalue": "ignored",
          "traceback": [
            "\u001b[0;31m---------------------------------------------------------------------------\u001b[0m",
            "\u001b[0;31mNameError\u001b[0m                                 Traceback (most recent call last)",
            "\u001b[0;32m<ipython-input-31-b14bcabde4bb>\u001b[0m in \u001b[0;36m<module>\u001b[0;34m()\u001b[0m\n\u001b[1;32m      1\u001b[0m \u001b[0;34m\u001b[0m\u001b[0m\n\u001b[0;32m----> 2\u001b[0;31m \u001b[0mtest_data\u001b[0m\u001b[0;34m.\u001b[0m\u001b[0mbank_account\u001b[0m \u001b[0;34m=\u001b[0m \u001b[0mlgm\u001b[0m\u001b[0;34m.\u001b[0m\u001b[0mpredict\u001b[0m\u001b[0;34m(\u001b[0m\u001b[0mprocessed_test_data\u001b[0m\u001b[0;34m)\u001b[0m\u001b[0;34m\u001b[0m\u001b[0;34m\u001b[0m\u001b[0m\n\u001b[0m",
            "\u001b[0;31mNameError\u001b[0m: name 'lgm' is not defined"
          ]
        }
      ]
    },
    {
      "cell_type": "code",
      "metadata": {
        "colab": {
          "base_uri": "https://localhost:8080/",
          "height": 337
        },
        "id": "JNS6yc1fLhvv",
        "outputId": "e30d2a50-6974-4ea6-a34c-a64ea2b95df5"
      },
      "source": [
        "submission = pd.DataFrame({\"uniqueid\": test_data[\"uniqueid\"] + \" x \" + test_data[\"country\"],\n",
        "\n",
        "\"bank_account\": test_data.bank_account})"
      ],
      "execution_count": null,
      "outputs": [
        {
          "output_type": "error",
          "ename": "ValueError",
          "evalue": "ignored",
          "traceback": [
            "\u001b[0;31m---------------------------------------------------------------------------\u001b[0m",
            "\u001b[0;31mValueError\u001b[0m                                Traceback (most recent call last)",
            "\u001b[0;32m<ipython-input-25-01ece34698cc>\u001b[0m in \u001b[0;36m<module>\u001b[0;34m()\u001b[0m\n\u001b[1;32m      1\u001b[0m submission = pd.DataFrame({\"uniqueid\": test_data[\"uniqueid\"] + \" x \" + test_data[\"country\"],\n\u001b[1;32m      2\u001b[0m \u001b[0;34m\u001b[0m\u001b[0m\n\u001b[0;32m----> 3\u001b[0;31m \"bank_account\": test_data})\n\u001b[0m",
            "\u001b[0;32m/usr/local/lib/python3.7/dist-packages/pandas/core/frame.py\u001b[0m in \u001b[0;36m__init__\u001b[0;34m(self, data, index, columns, dtype, copy)\u001b[0m\n\u001b[1;32m    466\u001b[0m \u001b[0;34m\u001b[0m\u001b[0m\n\u001b[1;32m    467\u001b[0m         \u001b[0;32melif\u001b[0m \u001b[0misinstance\u001b[0m\u001b[0;34m(\u001b[0m\u001b[0mdata\u001b[0m\u001b[0;34m,\u001b[0m \u001b[0mdict\u001b[0m\u001b[0;34m)\u001b[0m\u001b[0;34m:\u001b[0m\u001b[0;34m\u001b[0m\u001b[0;34m\u001b[0m\u001b[0m\n\u001b[0;32m--> 468\u001b[0;31m             \u001b[0mmgr\u001b[0m \u001b[0;34m=\u001b[0m \u001b[0minit_dict\u001b[0m\u001b[0;34m(\u001b[0m\u001b[0mdata\u001b[0m\u001b[0;34m,\u001b[0m \u001b[0mindex\u001b[0m\u001b[0;34m,\u001b[0m \u001b[0mcolumns\u001b[0m\u001b[0;34m,\u001b[0m \u001b[0mdtype\u001b[0m\u001b[0;34m=\u001b[0m\u001b[0mdtype\u001b[0m\u001b[0;34m)\u001b[0m\u001b[0;34m\u001b[0m\u001b[0;34m\u001b[0m\u001b[0m\n\u001b[0m\u001b[1;32m    469\u001b[0m         \u001b[0;32melif\u001b[0m \u001b[0misinstance\u001b[0m\u001b[0;34m(\u001b[0m\u001b[0mdata\u001b[0m\u001b[0;34m,\u001b[0m \u001b[0mma\u001b[0m\u001b[0;34m.\u001b[0m\u001b[0mMaskedArray\u001b[0m\u001b[0;34m)\u001b[0m\u001b[0;34m:\u001b[0m\u001b[0;34m\u001b[0m\u001b[0;34m\u001b[0m\u001b[0m\n\u001b[1;32m    470\u001b[0m             \u001b[0;32mimport\u001b[0m \u001b[0mnumpy\u001b[0m\u001b[0;34m.\u001b[0m\u001b[0mma\u001b[0m\u001b[0;34m.\u001b[0m\u001b[0mmrecords\u001b[0m \u001b[0;32mas\u001b[0m \u001b[0mmrecords\u001b[0m\u001b[0;34m\u001b[0m\u001b[0;34m\u001b[0m\u001b[0m\n",
            "\u001b[0;32m/usr/local/lib/python3.7/dist-packages/pandas/core/internals/construction.py\u001b[0m in \u001b[0;36minit_dict\u001b[0;34m(data, index, columns, dtype)\u001b[0m\n\u001b[1;32m    281\u001b[0m             \u001b[0marr\u001b[0m \u001b[0;32mif\u001b[0m \u001b[0;32mnot\u001b[0m \u001b[0mis_datetime64tz_dtype\u001b[0m\u001b[0;34m(\u001b[0m\u001b[0marr\u001b[0m\u001b[0;34m)\u001b[0m \u001b[0;32melse\u001b[0m \u001b[0marr\u001b[0m\u001b[0;34m.\u001b[0m\u001b[0mcopy\u001b[0m\u001b[0;34m(\u001b[0m\u001b[0;34m)\u001b[0m \u001b[0;32mfor\u001b[0m \u001b[0marr\u001b[0m \u001b[0;32min\u001b[0m \u001b[0marrays\u001b[0m\u001b[0;34m\u001b[0m\u001b[0;34m\u001b[0m\u001b[0m\n\u001b[1;32m    282\u001b[0m         ]\n\u001b[0;32m--> 283\u001b[0;31m     \u001b[0;32mreturn\u001b[0m \u001b[0marrays_to_mgr\u001b[0m\u001b[0;34m(\u001b[0m\u001b[0marrays\u001b[0m\u001b[0;34m,\u001b[0m \u001b[0mdata_names\u001b[0m\u001b[0;34m,\u001b[0m \u001b[0mindex\u001b[0m\u001b[0;34m,\u001b[0m \u001b[0mcolumns\u001b[0m\u001b[0;34m,\u001b[0m \u001b[0mdtype\u001b[0m\u001b[0;34m=\u001b[0m\u001b[0mdtype\u001b[0m\u001b[0;34m)\u001b[0m\u001b[0;34m\u001b[0m\u001b[0;34m\u001b[0m\u001b[0m\n\u001b[0m\u001b[1;32m    284\u001b[0m \u001b[0;34m\u001b[0m\u001b[0m\n\u001b[1;32m    285\u001b[0m \u001b[0;34m\u001b[0m\u001b[0m\n",
            "\u001b[0;32m/usr/local/lib/python3.7/dist-packages/pandas/core/internals/construction.py\u001b[0m in \u001b[0;36marrays_to_mgr\u001b[0;34m(arrays, arr_names, index, columns, dtype, verify_integrity)\u001b[0m\n\u001b[1;32m     91\u001b[0m     \u001b[0maxes\u001b[0m \u001b[0;34m=\u001b[0m \u001b[0;34m[\u001b[0m\u001b[0mcolumns\u001b[0m\u001b[0;34m,\u001b[0m \u001b[0mindex\u001b[0m\u001b[0;34m]\u001b[0m\u001b[0;34m\u001b[0m\u001b[0;34m\u001b[0m\u001b[0m\n\u001b[1;32m     92\u001b[0m \u001b[0;34m\u001b[0m\u001b[0m\n\u001b[0;32m---> 93\u001b[0;31m     \u001b[0;32mreturn\u001b[0m \u001b[0mcreate_block_manager_from_arrays\u001b[0m\u001b[0;34m(\u001b[0m\u001b[0marrays\u001b[0m\u001b[0;34m,\u001b[0m \u001b[0marr_names\u001b[0m\u001b[0;34m,\u001b[0m \u001b[0maxes\u001b[0m\u001b[0;34m)\u001b[0m\u001b[0;34m\u001b[0m\u001b[0;34m\u001b[0m\u001b[0m\n\u001b[0m\u001b[1;32m     94\u001b[0m \u001b[0;34m\u001b[0m\u001b[0m\n\u001b[1;32m     95\u001b[0m \u001b[0;34m\u001b[0m\u001b[0m\n",
            "\u001b[0;32m/usr/local/lib/python3.7/dist-packages/pandas/core/internals/managers.py\u001b[0m in \u001b[0;36mcreate_block_manager_from_arrays\u001b[0;34m(arrays, names, axes)\u001b[0m\n\u001b[1;32m   1695\u001b[0m         \u001b[0;32mreturn\u001b[0m \u001b[0mmgr\u001b[0m\u001b[0;34m\u001b[0m\u001b[0;34m\u001b[0m\u001b[0m\n\u001b[1;32m   1696\u001b[0m     \u001b[0;32mexcept\u001b[0m \u001b[0mValueError\u001b[0m \u001b[0;32mas\u001b[0m \u001b[0me\u001b[0m\u001b[0;34m:\u001b[0m\u001b[0;34m\u001b[0m\u001b[0;34m\u001b[0m\u001b[0m\n\u001b[0;32m-> 1697\u001b[0;31m         \u001b[0;32mraise\u001b[0m \u001b[0mconstruction_error\u001b[0m\u001b[0;34m(\u001b[0m\u001b[0mlen\u001b[0m\u001b[0;34m(\u001b[0m\u001b[0marrays\u001b[0m\u001b[0;34m)\u001b[0m\u001b[0;34m,\u001b[0m \u001b[0marrays\u001b[0m\u001b[0;34m[\u001b[0m\u001b[0;36m0\u001b[0m\u001b[0;34m]\u001b[0m\u001b[0;34m.\u001b[0m\u001b[0mshape\u001b[0m\u001b[0;34m,\u001b[0m \u001b[0maxes\u001b[0m\u001b[0;34m,\u001b[0m \u001b[0me\u001b[0m\u001b[0;34m)\u001b[0m\u001b[0;34m\u001b[0m\u001b[0;34m\u001b[0m\u001b[0m\n\u001b[0m\u001b[1;32m   1698\u001b[0m \u001b[0;34m\u001b[0m\u001b[0m\n\u001b[1;32m   1699\u001b[0m \u001b[0;34m\u001b[0m\u001b[0m\n",
            "\u001b[0;32m/usr/local/lib/python3.7/dist-packages/pandas/core/internals/managers.py\u001b[0m in \u001b[0;36mcreate_block_manager_from_arrays\u001b[0;34m(arrays, names, axes)\u001b[0m\n\u001b[1;32m   1690\u001b[0m \u001b[0;34m\u001b[0m\u001b[0m\n\u001b[1;32m   1691\u001b[0m     \u001b[0;32mtry\u001b[0m\u001b[0;34m:\u001b[0m\u001b[0;34m\u001b[0m\u001b[0;34m\u001b[0m\u001b[0m\n\u001b[0;32m-> 1692\u001b[0;31m         \u001b[0mblocks\u001b[0m \u001b[0;34m=\u001b[0m \u001b[0mform_blocks\u001b[0m\u001b[0;34m(\u001b[0m\u001b[0marrays\u001b[0m\u001b[0;34m,\u001b[0m \u001b[0mnames\u001b[0m\u001b[0;34m,\u001b[0m \u001b[0maxes\u001b[0m\u001b[0;34m)\u001b[0m\u001b[0;34m\u001b[0m\u001b[0;34m\u001b[0m\u001b[0m\n\u001b[0m\u001b[1;32m   1693\u001b[0m         \u001b[0mmgr\u001b[0m \u001b[0;34m=\u001b[0m \u001b[0mBlockManager\u001b[0m\u001b[0;34m(\u001b[0m\u001b[0mblocks\u001b[0m\u001b[0;34m,\u001b[0m \u001b[0maxes\u001b[0m\u001b[0;34m)\u001b[0m\u001b[0;34m\u001b[0m\u001b[0;34m\u001b[0m\u001b[0m\n\u001b[1;32m   1694\u001b[0m         \u001b[0mmgr\u001b[0m\u001b[0;34m.\u001b[0m\u001b[0m_consolidate_inplace\u001b[0m\u001b[0;34m(\u001b[0m\u001b[0;34m)\u001b[0m\u001b[0;34m\u001b[0m\u001b[0;34m\u001b[0m\u001b[0m\n",
            "\u001b[0;32m/usr/local/lib/python3.7/dist-packages/pandas/core/internals/managers.py\u001b[0m in \u001b[0;36mform_blocks\u001b[0;34m(arrays, names, axes)\u001b[0m\n\u001b[1;32m   1779\u001b[0m \u001b[0;34m\u001b[0m\u001b[0m\n\u001b[1;32m   1780\u001b[0m     \u001b[0;32mif\u001b[0m \u001b[0mlen\u001b[0m\u001b[0;34m(\u001b[0m\u001b[0mitems_dict\u001b[0m\u001b[0;34m[\u001b[0m\u001b[0;34m\"ObjectBlock\"\u001b[0m\u001b[0;34m]\u001b[0m\u001b[0;34m)\u001b[0m \u001b[0;34m>\u001b[0m \u001b[0;36m0\u001b[0m\u001b[0;34m:\u001b[0m\u001b[0;34m\u001b[0m\u001b[0;34m\u001b[0m\u001b[0m\n\u001b[0;32m-> 1781\u001b[0;31m         \u001b[0mobject_blocks\u001b[0m \u001b[0;34m=\u001b[0m \u001b[0m_simple_blockify\u001b[0m\u001b[0;34m(\u001b[0m\u001b[0mitems_dict\u001b[0m\u001b[0;34m[\u001b[0m\u001b[0;34m\"ObjectBlock\"\u001b[0m\u001b[0;34m]\u001b[0m\u001b[0;34m,\u001b[0m \u001b[0mnp\u001b[0m\u001b[0;34m.\u001b[0m\u001b[0mobject_\u001b[0m\u001b[0;34m)\u001b[0m\u001b[0;34m\u001b[0m\u001b[0;34m\u001b[0m\u001b[0m\n\u001b[0m\u001b[1;32m   1782\u001b[0m         \u001b[0mblocks\u001b[0m\u001b[0;34m.\u001b[0m\u001b[0mextend\u001b[0m\u001b[0;34m(\u001b[0m\u001b[0mobject_blocks\u001b[0m\u001b[0;34m)\u001b[0m\u001b[0;34m\u001b[0m\u001b[0;34m\u001b[0m\u001b[0m\n\u001b[1;32m   1783\u001b[0m \u001b[0;34m\u001b[0m\u001b[0m\n",
            "\u001b[0;32m/usr/local/lib/python3.7/dist-packages/pandas/core/internals/managers.py\u001b[0m in \u001b[0;36m_simple_blockify\u001b[0;34m(tuples, dtype)\u001b[0m\n\u001b[1;32m   1824\u001b[0m     \u001b[0;32mnot\u001b[0m \u001b[0;32mNone\u001b[0m\u001b[0;34m,\u001b[0m \u001b[0mcoerce\u001b[0m \u001b[0mto\u001b[0m \u001b[0mthis\u001b[0m \u001b[0mdtype\u001b[0m\u001b[0;34m\u001b[0m\u001b[0;34m\u001b[0m\u001b[0m\n\u001b[1;32m   1825\u001b[0m     \"\"\"\n\u001b[0;32m-> 1826\u001b[0;31m     \u001b[0mvalues\u001b[0m\u001b[0;34m,\u001b[0m \u001b[0mplacement\u001b[0m \u001b[0;34m=\u001b[0m \u001b[0m_stack_arrays\u001b[0m\u001b[0;34m(\u001b[0m\u001b[0mtuples\u001b[0m\u001b[0;34m,\u001b[0m \u001b[0mdtype\u001b[0m\u001b[0;34m)\u001b[0m\u001b[0;34m\u001b[0m\u001b[0;34m\u001b[0m\u001b[0m\n\u001b[0m\u001b[1;32m   1827\u001b[0m \u001b[0;34m\u001b[0m\u001b[0m\n\u001b[1;32m   1828\u001b[0m     \u001b[0;31m# TODO: CHECK DTYPE?\u001b[0m\u001b[0;34m\u001b[0m\u001b[0;34m\u001b[0m\u001b[0;34m\u001b[0m\u001b[0m\n",
            "\u001b[0;32m/usr/local/lib/python3.7/dist-packages/pandas/core/internals/managers.py\u001b[0m in \u001b[0;36m_stack_arrays\u001b[0;34m(tuples, dtype)\u001b[0m\n\u001b[1;32m   1872\u001b[0m     \u001b[0mstacked\u001b[0m \u001b[0;34m=\u001b[0m \u001b[0mnp\u001b[0m\u001b[0;34m.\u001b[0m\u001b[0mempty\u001b[0m\u001b[0;34m(\u001b[0m\u001b[0mshape\u001b[0m\u001b[0;34m,\u001b[0m \u001b[0mdtype\u001b[0m\u001b[0;34m=\u001b[0m\u001b[0mdtype\u001b[0m\u001b[0;34m)\u001b[0m\u001b[0;34m\u001b[0m\u001b[0;34m\u001b[0m\u001b[0m\n\u001b[1;32m   1873\u001b[0m     \u001b[0;32mfor\u001b[0m \u001b[0mi\u001b[0m\u001b[0;34m,\u001b[0m \u001b[0marr\u001b[0m \u001b[0;32min\u001b[0m \u001b[0menumerate\u001b[0m\u001b[0;34m(\u001b[0m\u001b[0marrays\u001b[0m\u001b[0;34m)\u001b[0m\u001b[0;34m:\u001b[0m\u001b[0;34m\u001b[0m\u001b[0;34m\u001b[0m\u001b[0m\n\u001b[0;32m-> 1874\u001b[0;31m         \u001b[0mstacked\u001b[0m\u001b[0;34m[\u001b[0m\u001b[0mi\u001b[0m\u001b[0;34m]\u001b[0m \u001b[0;34m=\u001b[0m \u001b[0m_asarray_compat\u001b[0m\u001b[0;34m(\u001b[0m\u001b[0marr\u001b[0m\u001b[0;34m)\u001b[0m\u001b[0;34m\u001b[0m\u001b[0;34m\u001b[0m\u001b[0m\n\u001b[0m\u001b[1;32m   1875\u001b[0m \u001b[0;34m\u001b[0m\u001b[0m\n\u001b[1;32m   1876\u001b[0m     \u001b[0;32mreturn\u001b[0m \u001b[0mstacked\u001b[0m\u001b[0;34m,\u001b[0m \u001b[0mplacement\u001b[0m\u001b[0;34m\u001b[0m\u001b[0;34m\u001b[0m\u001b[0m\n",
            "\u001b[0;31mValueError\u001b[0m: could not broadcast input array from shape (12) into shape (10086)"
          ]
        }
      ]
    },
    {
      "cell_type": "code",
      "metadata": {
        "id": "Uiw79LNuLh9g"
      },
      "source": [],
      "execution_count": null,
      "outputs": []
    }
  ]
}