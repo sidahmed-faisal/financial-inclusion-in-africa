{
  "cells": [
    {
      "cell_type": "markdown",
      "metadata": {
        "id": "wVHUQMS6CRqB"
      },
      "source": [
        "# Financial Inclusion in Africa Zindi Competition\n"
      ]
    },
    {
      "cell_type": "markdown",
      "metadata": {
        "id": "jOvH0-5-CRqP"
      },
      "source": [
        "Remember to read the competition details in the zindi platform, [Zindi Africa](https://zindi.africa)"
      ]
    },
    {
      "cell_type": "code",
      "execution_count": null,
      "metadata": {
        "id": "ayMkABVVCRqQ"
      },
      "outputs": [],
      "source": [
        "# import important modules \n",
        "\n",
        "import pandas as pd\n",
        "import numpy as np\n",
        "import matplotlib.pyplot as plt\n",
        "import seaborn as sns  \n",
        "import warnings\n",
        "np.random.seed(123)\n",
        "warnings.filterwarnings('ignore')\n",
        "%matplotlib inline "
      ]
    },
    {
      "cell_type": "code",
      "execution_count": null,
      "metadata": {
        "colab": {
          "base_uri": "https://localhost:8080/"
        },
        "id": "UaFgHx1nCbLg",
        "outputId": "ff8d8666-2694-4046-f6b4-dc48d91abb65"
      },
      "outputs": [],
      "source": [
        "\n",
        "from google.colab import drive\n",
        "drive.mount('/content/drive')"
      ]
    },
    {
      "cell_type": "markdown",
      "metadata": {
        "id": "zirseNYSCRqS"
      },
      "source": [
        "## Load Dataset"
      ]
    },
    {
      "cell_type": "code",
      "execution_count": null,
      "metadata": {
        "id": "F3_TuLd7CRqS"
      },
      "outputs": [],
      "source": [
        "# Import data\n",
        "train_data = pd.read_csv('Train.csv')\n",
        "test_data = pd.read_csv('Test.csv')"
      ]
    },
    {
      "cell_type": "code",
      "execution_count": null,
      "metadata": {
        "colab": {
          "base_uri": "https://localhost:8080/"
        },
        "id": "4k1ujOLPLIC_",
        "outputId": "e53c3866-439e-4d00-bed2-8a171ec71cf9"
      },
      "outputs": [],
      "source": [
        "from google.colab import drive\n",
        "drive.mount('/content/drive')"
      ]
    },
    {
      "cell_type": "code",
      "execution_count": null,
      "metadata": {
        "colab": {
          "base_uri": "https://localhost:8080/"
        },
        "id": "Dj1wRnroCRqS",
        "outputId": "6e9f4da6-2585-4b80-f2bf-6adc069ae08a"
      },
      "outputs": [],
      "source": [
        "# print shape \n",
        "print('train data shape :', train_data.shape)\n",
        "print('test data shape :', test_data.shape)"
      ]
    },
    {
      "cell_type": "markdown",
      "metadata": {
        "id": "c7cRAPeMCRqT"
      },
      "source": [
        "The above output show the number of rows and columns for train and test dataset "
      ]
    },
    {
      "cell_type": "code",
      "execution_count": null,
      "metadata": {
        "id": "cifhq5HrCRqU",
        "outputId": "e4b0bab8-5861-4142-ec44-9d9a8fa6d892"
      },
      "outputs": [],
      "source": [
        "# Inspect train Data\n",
        "train_data.head()"
      ]
    },
    {
      "cell_type": "markdown",
      "metadata": {
        "id": "52sO-EW1CRqU"
      },
      "source": [
        "**Note:** Open the VariableDefinition file to understand the meaning of each variable in this dataset "
      ]
    },
    {
      "cell_type": "code",
      "execution_count": null,
      "metadata": {
        "colab": {
          "base_uri": "https://localhost:8080/",
          "height": 203
        },
        "id": "q9uA70ovCRqU",
        "outputId": "6fbfc854-27f7-4db2-fcf9-802d78eb5c35"
      },
      "outputs": [],
      "source": [
        "submission = pd.read_csv('SampleSubmission.csv')\n",
        "submission.head()"
      ]
    },
    {
      "cell_type": "markdown",
      "metadata": {
        "id": "rg8CVkSmCRqV"
      },
      "source": [
        "## Explolatory Data Analysis \n",
        "\n",
        "This is the process of finding some insights from you dataset before create predictive models.\n",
        "\n",
        "**Note:** This is important steps in your Data science workflow."
      ]
    },
    {
      "cell_type": "code",
      "execution_count": null,
      "metadata": {
        "id": "_IQkOoStCRqV",
        "outputId": "d53755b9-8e77-465b-d2ba-f60c12b20b7f"
      },
      "outputs": [],
      "source": [
        "#show list of columns \n",
        "list(train_data.columns)  "
      ]
    },
    {
      "cell_type": "code",
      "execution_count": null,
      "metadata": {
        "id": "Rya7nP1jCRqW",
        "outputId": "673226f7-15f9-4c4d-de6a-9a5eea9bbcbe"
      },
      "outputs": [],
      "source": [
        "## show Some information about the dataset \n",
        "print(train_data.info())"
      ]
    },
    {
      "cell_type": "markdown",
      "metadata": {
        "id": "M08wOTpnCRqX"
      },
      "source": [
        "The outshow shows the list of variables , sizes and data types in each variables. This will help you to know what feature engineering techniques you can apply."
      ]
    },
    {
      "cell_type": "code",
      "execution_count": null,
      "metadata": {
        "id": "O_XanS-jCRqX",
        "outputId": "14cc85f6-930d-47b1-b225-e9825c716b6c"
      },
      "outputs": [],
      "source": [
        "# Check for missing values\n",
        "print('missing values:', train_data.isnull().sum())"
      ]
    },
    {
      "cell_type": "markdown",
      "metadata": {
        "id": "yxP4vERBCRqY"
      },
      "source": [
        "We don't have missing data in our dataset."
      ]
    },
    {
      "cell_type": "code",
      "execution_count": null,
      "metadata": {
        "id": "gHtaG6V9CRqZ",
        "outputId": "8201a9c7-11cf-4890-b863-6461377a3c6a"
      },
      "outputs": [],
      "source": [
        "# Explore Target distribution \n",
        "\n",
        "sns.catplot(x=\"bank_account\", kind=\"count\", data=train_data)"
      ]
    },
    {
      "cell_type": "code",
      "execution_count": null,
      "metadata": {
        "id": "MphK-sXLCRqa",
        "inputHidden": false,
        "outputHidden": false,
        "outputId": "3dc2f863-7905-4f57-a5ca-a6c4bb05fcdc"
      },
      "outputs": [],
      "source": [
        "train_data['bank_account'].value_counts()"
      ]
    },
    {
      "cell_type": "markdown",
      "metadata": {
        "id": "FlZdYXP3CRqb"
      },
      "source": [
        "The data shows that we have large number of **no** class than **yes** class  in our target variable "
      ]
    },
    {
      "cell_type": "markdown",
      "metadata": {
        "id": "Rea0LOYtCRqc"
      },
      "source": [
        "In my previous article , I explained more about Exploratory data analysis with the financial Inclusion in Africa dataset.You can read and download the notebook [here](https://medium.com/analytics-vidhya/why-you-need-to-explore-your-data-how-you-can-start-13de6f29c8c1)"
      ]
    },
    {
      "cell_type": "markdown",
      "metadata": {
        "id": "l-A6iib6CRqc"
      },
      "source": [
        "## Data Preprocessing "
      ]
    },
    {
      "cell_type": "code",
      "execution_count": null,
      "metadata": {
        "id": "aKAkoOkuM5C7"
      },
      "outputs": [],
      "source": [
        "test_data = test_data.drop(['year'],axis=1)\n",
        "# test_data = test_data.drop(['household_size'],axis=1)\n"
      ]
    },
    {
      "cell_type": "code",
      "execution_count": null,
      "metadata": {
        "colab": {
          "base_uri": "https://localhost:8080/",
          "height": 324
        },
        "id": "vVdZxQkiCRqd",
        "outputId": "085a7cf6-f5b7-468d-d739-20fdb659a059"
      },
      "outputs": [],
      "source": [
        "#import preprocessing module \n",
        "from sklearn.preprocessing import LabelEncoder\n",
        "from sklearn.preprocessing import MinMaxScaler \n",
        "\n",
        "# Convert target label to numerical Data\n",
        "le = LabelEncoder()\n",
        "train_data['bank_account'] = le.fit_transform(train_data['bank_account'])\n",
        "\n",
        "#Separate training features from target\n",
        "train_data = train_data.drop(['year'], axis=1)\n",
        "# train_data = train_data.drop(['household_size'], axis=1)\n",
        "\n",
        "X_train = train_data.drop(['bank_account'], axis=1)\n",
        "\n",
        "y_train = train_data['bank_account']\n",
        "\n",
        "# y_train = pd.DataFrame(train_data['bank_account'])\n",
        "\n",
        "X_train.head()"
      ]
    },
    {
      "cell_type": "code",
      "execution_count": null,
      "metadata": {
        "id": "fXcJ3u5NCRqe",
        "outputId": "04a336e5-e2ee-4bce-d7c5-9fbc544576d4"
      },
      "outputs": [],
      "source": [
        "# our target \n",
        "y_train.head() "
      ]
    },
    {
      "cell_type": "code",
      "execution_count": null,
      "metadata": {
        "id": "tYMf1B_qLmk7"
      },
      "outputs": [],
      "source": []
    },
    {
      "cell_type": "code",
      "execution_count": null,
      "metadata": {
        "id": "4Femz41zLmyt"
      },
      "outputs": [],
      "source": [
        "X_train = X_train.drop(['year'],axis=1)"
      ]
    },
    {
      "cell_type": "code",
      "execution_count": null,
      "metadata": {
        "id": "xABUDpBiL0m9"
      },
      "outputs": [],
      "source": [
        "X_train = X_train.drop(['household_size'],axis=1)"
      ]
    },
    {
      "cell_type": "code",
      "execution_count": null,
      "metadata": {
        "id": "SuEKLYg4L01d"
      },
      "outputs": [],
      "source": []
    },
    {
      "cell_type": "code",
      "execution_count": null,
      "metadata": {
        "id": "x3ut7rWgL08Q"
      },
      "outputs": [],
      "source": [
        "X_train = X_train.drop(['household_size'],axis=1)"
      ]
    },
    {
      "cell_type": "code",
      "execution_count": null,
      "metadata": {
        "id": "osSOquimMfm3"
      },
      "outputs": [],
      "source": []
    },
    {
      "cell_type": "code",
      "execution_count": null,
      "metadata": {
        "id": "wmrs13_fMfq0"
      },
      "outputs": [],
      "source": []
    },
    {
      "cell_type": "code",
      "execution_count": null,
      "metadata": {
        "id": "rDL7JojMMfvC"
      },
      "outputs": [],
      "source": []
    },
    {
      "cell_type": "markdown",
      "metadata": {
        "id": "SbhqUiTqCRqf"
      },
      "source": [
        "I have created a simple preprocessing function to handle \n",
        "\n",
        "- conversion of data types\n",
        "- convert categorical features to numerical by one-hot encoding method and label encoding\n",
        "- drop uniqueid variable \n",
        "- scaling our data into range of 0 and 1 "
      ]
    },
    {
      "cell_type": "code",
      "execution_count": null,
      "metadata": {
        "id": "toKXjQzZCRqf"
      },
      "outputs": [],
      "source": [
        "# function to preprocess our data from train models\n",
        "\n",
        "def preprocessing_data(data):\n",
        "\n",
        "    # Convert the following numerical labels from integer to float\n",
        "    float_array = data[[\"household_size\",\"age_of_respondent\"]].values.astype(\n",
        "        float\n",
        "    )\n",
        "\n",
        "    # categorical features to be converted by One Hot Encoding\n",
        "    categ = [\n",
        "        \"relationship_with_head\",\n",
        "        \"marital_status\",\n",
        "        \"education_level\",\n",
        "        \"job_type\",\n",
        "        \"country\",\n",
        "    ]\n",
        "\n",
        "    # One Hot Encoding conversion\n",
        "    data = pd.get_dummies(data, prefix_sep=\"_\", columns=categ)\n",
        "\n",
        "    # Label Encoder conversion\n",
        "    data[\"location_type\"] = le.fit_transform(data[\"location_type\"])\n",
        "    data[\"cellphone_access\"] = le.fit_transform(data[\"cellphone_access\"])\n",
        "    data[\"gender_of_respondent\"] = le.fit_transform(data[\"gender_of_respondent\"])\n",
        "\n",
        "    # drop uniquid column\n",
        "    data = data.drop([\"uniqueid\"], axis=1)\n",
        "    data = data.drop([\"cellphone_access\"], axis=1)\n",
        "\n",
        "    # scale our data into range of 0 and 1\n",
        "    scaler = MinMaxScaler(feature_range=(0, 1))\n",
        "    data = scaler.fit_transform(data)\n",
        "\n",
        "    return data"
      ]
    },
    {
      "cell_type": "code",
      "execution_count": null,
      "metadata": {
        "id": "9VB2TDVkCRqg"
      },
      "outputs": [],
      "source": [
        "# preprocess the train data \n",
        "processed_train_data = preprocessing_data(X_train)"
      ]
    },
    {
      "cell_type": "code",
      "execution_count": null,
      "metadata": {
        "colab": {
          "base_uri": "https://localhost:8080/"
        },
        "id": "TAjHWNRICRqg",
        "outputId": "c867ac20-e016-4cdc-e7f1-30c49e3f27a7"
      },
      "outputs": [],
      "source": [
        "# the first train row \n",
        "processed_train_data.shape"
      ]
    },
    {
      "cell_type": "code",
      "execution_count": null,
      "metadata": {
        "id": "EwSapyo8CRqh"
      },
      "outputs": [],
      "source": [
        "# preprocess the test data\n",
        "processed_test_data = preprocessing_data(test_data)"
      ]
    },
    {
      "cell_type": "code",
      "execution_count": null,
      "metadata": {
        "colab": {
          "base_uri": "https://localhost:8080/"
        },
        "id": "9HhpRXstCRqi",
        "outputId": "98bddce3-fe7f-4cb6-990a-5dd69907af1b"
      },
      "outputs": [],
      "source": [
        "# the first test row\n",
        "processed_test_data.shape"
      ]
    },
    {
      "cell_type": "code",
      "execution_count": null,
      "metadata": {
        "colab": {
          "base_uri": "https://localhost:8080/"
        },
        "id": "3kz7WBuUCRqi",
        "outputId": "29a8227a-46c3-4e33-bf44-ff15446aa2c2"
      },
      "outputs": [],
      "source": [
        "# shape of the processed train set\n",
        "processed_train_data.shape "
      ]
    },
    {
      "cell_type": "code",
      "execution_count": null,
      "metadata": {
        "colab": {
          "base_uri": "https://localhost:8080/"
        },
        "id": "9Im2wOXQCRqj",
        "outputId": "9a15af1a-4cc0-4231-e760-db270ecb88c7"
      },
      "outputs": [],
      "source": [
        "# shape of the processed test set\n",
        "processed_test_data"
      ]
    },
    {
      "cell_type": "markdown",
      "metadata": {
        "id": "O6mmJzNqCRqj"
      },
      "source": [
        "### Model Building and Experiment "
      ]
    },
    {
      "cell_type": "code",
      "execution_count": null,
      "metadata": {
        "id": "Vj-PB4guCRqj"
      },
      "outputs": [],
      "source": [
        "# Split train_data\n",
        "from sklearn.model_selection import train_test_split\n",
        "\n",
        "X_Train, X_val, y_Train, y_val = train_test_split(processed_train_data, y_train, stratify = y_train,\n",
        "                                                  test_size = 0.1, random_state=42)"
      ]
    },
    {
      "cell_type": "code",
      "execution_count": null,
      "metadata": {
        "colab": {
          "base_uri": "https://localhost:8080/"
        },
        "id": "LogItqEyCRqk",
        "outputId": "bb7c499e-4a8e-4aeb-e481-aeea8fe41e2e"
      },
      "outputs": [],
      "source": [
        "#import classifier algorithm here \n",
        "from sklearn.linear_model import LogisticRegression\n",
        "from sklearn.ensemble import RandomForestClassifier\n",
        "from sklearn.neighbors import KNeighborsClassifier\n",
        "from sklearn.ensemble import ExtraTreesClassifier\n",
        "from xgboost import XGBClassifier \n",
        "import lightgbm as lgb\n",
        "from sklearn.svm import SVC \n",
        "\n",
        "# create models \n",
        "lg_model = LogisticRegression()\n",
        "rf_model = RandomForestClassifier()\n",
        "kn_model = KNeighborsClassifier()\n",
        "et_model = ExtraTreesClassifier()\n",
        "xg_model = XGBClassifier()\n",
        "lgb_model = lgb.LGBMClassifier(learning_rate=0.09,max_depth=-5,random_state=42)\n",
        "SVC_model = SVC(kernel='linear',random_state = 0)\n",
        "\n",
        "\n",
        "#fitting the models\n",
        "lg_model.fit(X_Train,y_Train)\n",
        "rf_model.fit(X_Train,y_Train)\n",
        "kn_model.fit(X_Train,y_Train)\n",
        "et_model.fit(X_Train,y_Train)\n",
        "xg_model.fit(X_Train,y_Train)\n",
        "lgb_model.fit(X_Train,y_Train,eval_set=[( X_val,y_val),(X_Train,y_Train)],verbose=20,eval_metric='logloss')\n",
        "SVC_model.fit(X_Train,y_Train)\n"
      ]
    },
    {
      "cell_type": "code",
      "execution_count": null,
      "metadata": {
        "id": "E4qXs5dSHG8h"
      },
      "outputs": [],
      "source": [
        "models = {\"lg_model\" : LogisticRegression(),\n",
        "\"rf_model\" : RandomForestClassifier(),\n",
        "\"kn_model\" : KNeighborsClassifier(),\n",
        "\"et_model\" : ExtraTreesClassifier(),\n",
        "\"xg_model\" : XGBClassifier(),\n",
        "\"lgb_model\" : lgb.LGBMClassifier(),\n",
        "\"SVC_model\" : SVC()\n",
        "\n",
        "\n",
        "}\n",
        "def fit_and_score(models , X_Train , X_val , y_Train , y_val):\n",
        "  model_scores = {}\n",
        "  for name, model in models.items():\n",
        "    model.fit(X_Train,y_Train)\n",
        "    model_scores[name] = model.score(X_val,y_val)\n",
        "\n",
        "  return model_scores"
      ]
    },
    {
      "cell_type": "code",
      "execution_count": null,
      "metadata": {
        "id": "L5ALPfPUJFqL"
      },
      "outputs": [],
      "source": [
        "model_scores = fit_and_score(models=models,\n",
        "                             X_Train=X_Train,\n",
        "                             X_val=X_val,\n",
        "                             y_Train=y_Train,\n",
        "                             y_val=y_val) "
      ]
    },
    {
      "cell_type": "code",
      "execution_count": null,
      "metadata": {
        "colab": {
          "base_uri": "https://localhost:8080/"
        },
        "id": "dXfnKJc5LXVW",
        "outputId": "506f4ae4-9df5-4446-bec9-29e623b8fe3e"
      },
      "outputs": [],
      "source": [
        "model_scores"
      ]
    },
    {
      "cell_type": "code",
      "execution_count": null,
      "metadata": {
        "id": "ke-NaWrvQ_N3"
      },
      "outputs": [],
      "source": [
        "# {'SVC_model': 0.8916277093072673,\n",
        "#  'et_model': 0.8559286017849553,\n",
        "#  'kn_model': 0.8810029749256268,\n",
        "#  'lg_model': 0.8861028474288143,\n",
        "#  'lgb_model': 0.8895027624309392,\n",
        "#  'rf_model': 0.8661283467913302,\n",
        "#  'xg_model': 0.8899277518062049}"
      ]
    },
    {
      "cell_type": "code",
      "execution_count": null,
      "metadata": {
        "colab": {
          "base_uri": "https://localhost:8080/",
          "height": 324
        },
        "id": "7_JQUmZdLjFc",
        "outputId": "985c2690-6ddf-4769-8bed-cde4b9916846"
      },
      "outputs": [],
      "source": [
        "model_compare = pd.DataFrame(model_scores,index=[\"accuracy\"])\n",
        "model_compare.T.plot.bar()"
      ]
    },
    {
      "cell_type": "code",
      "execution_count": null,
      "metadata": {
        "id": "4hr3uMHlMV_i"
      },
      "outputs": [],
      "source": []
    },
    {
      "cell_type": "code",
      "execution_count": null,
      "metadata": {
        "id": "_4jukAY6MWPB"
      },
      "outputs": [],
      "source": []
    },
    {
      "cell_type": "code",
      "execution_count": null,
      "metadata": {
        "colab": {
          "base_uri": "https://localhost:8080/"
        },
        "id": "l2w6BcEyCRqm",
        "outputId": "1d3cdfb7-5934-4f02-f7de-f62b8a9c8837"
      },
      "outputs": [],
      "source": [
        "# import evaluation metrics\n",
        "from sklearn.metrics import confusion_matrix, accuracy_score\n",
        "\n",
        "# evaluate the model\n",
        "lg_y_pred = lg_model.predict(X_val)\n",
        "rf_y_pred = rf_model.predict(X_val)\n",
        "kn_y_pred = kn_model.predict(X_val)\n",
        "et_y_pred = et_model.predict(X_val)\n",
        "xg_y_pred = xg_model.predict(X_val)\n",
        "lgb_y_pred = lgb_model.predict(X_val)\n",
        "SVC_y_pred = SVC_model.predict(X_val)\n",
        "\n",
        "# Get error rate\n",
        "print(\"Error rate of Logistic Regression classifier: \", 1 - accuracy_score(y_val, lg_y_pred))\n",
        "print(\"Error rate of Random Forest classifier: \", 1 - accuracy_score(y_val, rf_y_pred))\n",
        "print(\"Error rate of KNeighbors Classifier: \", 1 - accuracy_score(y_val, kn_y_pred))\n",
        "print(\"Error rate of Extra Tree classifier: \", 1 - accuracy_score(y_val, et_y_pred))\n",
        "print(\"Error rate of XGB classifier: \", 1 - accuracy_score(y_val, xg_y_pred))\n",
        "print(\"Error rate of lGB classifier: \", 1 - accuracy_score(y_val, lgb_y_pred))\n",
        "print(\"Error rate of lGB classifier: \", 1 - accuracy_score(y_val, lgb_y_pred))\n",
        "print(\"Error rate of SVC classifier: \", 1 - accuracy_score(y_val, SVC_y_pred))\n",
        "\n"
      ]
    },
    {
      "cell_type": "code",
      "execution_count": null,
      "metadata": {
        "id": "TSpih7nLCRqm",
        "outputId": "76ce5afd-05ea-4732-8aa2-92ea566f09f9"
      },
      "outputs": [],
      "source": [
        "# Error rate of Logistic Regression classifier:  0.11219719507012327\n",
        "# Error rate of Random Forest classifier:  0.13557161070973223\n",
        "# Error rate of KNeighbors Classifier:  0.11814704632384188\n",
        "# Error rate of Extra Tree classifier:  0.14109647258818525\n",
        "# Error rate of XGB classifier:  0.10922226944326396\n",
        "# Error rate of lGB classifier:  0.10879728006799827"
      ]
    },
    {
      "cell_type": "markdown",
      "metadata": {
        "id": "x3PyoQ1aCRqn"
      },
      "source": [
        "XGB Classifier performs better than others classifiers.\n",
        "\n",
        "let's check the confusion matrix for XGB Classifier"
      ]
    },
    {
      "cell_type": "code",
      "execution_count": null,
      "metadata": {
        "colab": {
          "base_uri": "https://localhost:8080/",
          "height": 296
        },
        "id": "zgCGpk41CRqo",
        "outputId": "92935c3f-5534-4193-efb9-f9360fdf6969"
      },
      "outputs": [],
      "source": [
        "from sklearn.metrics import plot_confusion_matrix\n",
        "\n",
        "# Get confusion matrix for Gradient Boosting Classifier \n",
        "plot_confusion_matrix(xg_model,X_val, y_val,normalize='true')"
      ]
    },
    {
      "cell_type": "code",
      "execution_count": null,
      "metadata": {
        "id": "Senrn97ICRqo"
      },
      "outputs": [],
      "source": [
        "# Import GridSearchCV\n",
        "from sklearn.model_selection import GridSearchCV"
      ]
    },
    {
      "cell_type": "code",
      "execution_count": null,
      "metadata": {
        "colab": {
          "base_uri": "https://localhost:8080/"
        },
        "id": "SQf2uKsiCRqp",
        "outputId": "15de3eb0-28c9-42df-e224-fe75d4195b09"
      },
      "outputs": [],
      "source": [
        "# Optimize model paramaters \n",
        "# I run this code in google colab to make the execution much faster and use the best params in the next code\n",
        "param_grid = {'min_child_weight': [1, 5, 10],\n",
        "        'gamma': [0.5, 1],\n",
        "        'subsample': [0.6, 0.8, 1.0],\n",
        "        'max_depth': [3,5]\n",
        "        }\n",
        "my_xgb_model = GridSearchCV(xg_model, param_grid,n_jobs=-1,verbose=2,cv=5)\n",
        "my_xgb_model.fit(X_Train, y_Train)\n",
        "print(my_xgb_model.best_params_)"
      ]
    },
    {
      "cell_type": "code",
      "execution_count": null,
      "metadata": {
        "colab": {
          "base_uri": "https://localhost:8080/"
        },
        "id": "Ar27EQEDCRqp",
        "outputId": "a4d76b30-0f0b-4c57-f563-31a7a6297daf"
      },
      "outputs": [],
      "source": [
        "from sklearn.metrics import confusion_matrix, accuracy_score\n",
        "\n",
        "\n",
        "# fit by setting best parameters and Evaluate model\n",
        "my_xgb_model = XGBClassifier(min_child_weight=1, gamma=1, subsample=0.8, max_depth=5)\n",
        "\n",
        "my_xgb_model.fit(X_Train, y_Train)\n",
        "y_pred = my_xgb_model.predict(X_val)\n",
        "\n",
        "# Get error rate\n",
        "print(\"Error rate of the  XGB classifier: \", 1 - accuracy_score(y_val, y_pred))"
      ]
    },
    {
      "cell_type": "code",
      "execution_count": null,
      "metadata": {
        "id": "07fXNZBIOo6L"
      },
      "outputs": [],
      "source": [
        "# Error rate of the  XGB classifier:  0.10879728006799827"
      ]
    },
    {
      "cell_type": "code",
      "execution_count": null,
      "metadata": {
        "id": "fRAu7IfiRp4c"
      },
      "outputs": [],
      "source": [
        "\n"
      ]
    },
    {
      "cell_type": "markdown",
      "metadata": {
        "id": "2YhsbWVDCRqq"
      },
      "source": [
        "Our model has been improved "
      ]
    },
    {
      "cell_type": "code",
      "execution_count": null,
      "metadata": {
        "id": "eNcgE_47CRqq"
      },
      "outputs": [],
      "source": [
        "# Get the predicted result for the test Data\n",
        "test_data.bank_account =my_xgb_model.predict(processed_test_data)"
      ]
    },
    {
      "cell_type": "code",
      "execution_count": null,
      "metadata": {
        "id": "E5T45OYPCRqq"
      },
      "outputs": [],
      "source": [
        "# create submission DataFrame\n",
        "submission = pd.DataFrame({\"uniqueid\": test_data[\"uniqueid\"] + \" x \" + test_data[\"country\"],\n",
        "\n",
        "\"bank_account\": test_data.bank_account})"
      ]
    },
    {
      "cell_type": "code",
      "execution_count": null,
      "metadata": {
        "colab": {
          "base_uri": "https://localhost:8080/",
          "height": 1000
        },
        "id": "82xt-FQGCRqr",
        "outputId": "cc89aefd-7cc9-407e-c57c-8f6aff94821f"
      },
      "outputs": [],
      "source": [
        "#show the five sample\n",
        "submission.sample(50)"
      ]
    },
    {
      "cell_type": "code",
      "execution_count": null,
      "metadata": {
        "id": "YXQYiMbsCRqr"
      },
      "outputs": [],
      "source": [
        "# Create submission csv file\n",
        "submission.to_csv('submission_16.csv', index = False)"
      ]
    },
    {
      "cell_type": "markdown",
      "metadata": {
        "id": "mWccxTvhCRqr"
      },
      "source": [
        "Upload your **first_submission.csv** in the zindi competition"
      ]
    },
    {
      "cell_type": "code",
      "execution_count": null,
      "metadata": {
        "id": "s0mZ8SQNCRqs"
      },
      "outputs": [],
      "source": [
        "# from sklearn.model_selection import train_test_split\n",
        "\n",
        "# X_Train, X_val, y_Train, y_val = train_test_split(processed_train_data, y_train, stratify = y_train,\n",
        "#                                                   test_size = 0.1, random_state=42)"
      ]
    },
    {
      "cell_type": "code",
      "execution_count": null,
      "metadata": {
        "id": "2PK_6w3dLVuC"
      },
      "outputs": [],
      "source": [
        "# import lightgbm as lgb\n",
        "# lgb_train = lgb.Dataset(X_Train, y_Train)\n",
        "# lgb_test = lgb.Dataset(X_val, y_val)"
      ]
    },
    {
      "cell_type": "code",
      "execution_count": null,
      "metadata": {
        "id": "NtzaDXOWLVxb"
      },
      "outputs": [],
      "source": [
        "# params = {\n",
        "# 'boosting_type': 'gbdt',\n",
        "# 'objective': 'multiclass',\n",
        "# 'metric': 'multi_logloss',\n",
        "# 'num_class':9\n",
        "# }"
      ]
    },
    {
      "cell_type": "code",
      "execution_count": null,
      "metadata": {
        "colab": {
          "base_uri": "https://localhost:8080/"
        },
        "id": "TXyt-60aLhlm",
        "outputId": "8b4d10de-4abe-475d-cb69-9e1e421a7a6b"
      },
      "outputs": [],
      "source": [
        "# gbm = lgb.train(\n",
        "# params,\n",
        "# lgb_train,\n",
        "# num_boost_round=500,\n",
        "# valid_sets=[lgb_train, lgb_test],\n",
        "# early_stopping_rounds=10\n",
        "# )\n"
      ]
    },
    {
      "cell_type": "code",
      "execution_count": null,
      "metadata": {
        "colab": {
          "base_uri": "https://localhost:8080/",
          "height": 178
        },
        "id": "WuIW7HXwLhrA",
        "outputId": "e8cf5911-0ffa-47e0-9cbc-3cfc0877499e"
      },
      "outputs": [],
      "source": [
        "\n",
        "# test_data.bank_account = lgm.predict(processed_test_data)\n"
      ]
    },
    {
      "cell_type": "code",
      "execution_count": null,
      "metadata": {
        "colab": {
          "base_uri": "https://localhost:8080/",
          "height": 337
        },
        "id": "JNS6yc1fLhvv",
        "outputId": "e30d2a50-6974-4ea6-a34c-a64ea2b95df5"
      },
      "outputs": [],
      "source": [
        "# submission = pd.DataFrame({\"uniqueid\": test_data[\"uniqueid\"] + \" x \" + test_data[\"country\"],\n",
        "\n",
        "# \"bank_account\": test_data.bank_account})"
      ]
    },
    {
      "cell_type": "code",
      "execution_count": null,
      "metadata": {
        "id": "Uiw79LNuLh9g"
      },
      "outputs": [],
      "source": []
    }
  ],
  "metadata": {
    "colab": {
      "collapsed_sections": [],
      "provenance": []
    },
    "hide_input": false,
    "kernel_info": {
      "name": "python3"
    },
    "kernelspec": {
      "display_name": "Python 3.9.1 64-bit",
      "language": "python",
      "name": "python3"
    },
    "language_info": {
      "codemirror_mode": {
        "name": "ipython",
        "version": 3
      },
      "file_extension": ".py",
      "mimetype": "text/x-python",
      "name": "python",
      "nbconvert_exporter": "python",
      "pygments_lexer": "ipython3",
      "version": "3.9.1"
    },
    "nteract": {
      "version": "0.15.0"
    },
    "toc": {
      "base_numbering": 1,
      "nav_menu": {},
      "number_sections": true,
      "sideBar": true,
      "skip_h1_title": false,
      "title_cell": "Table of Contents",
      "title_sidebar": "Contents",
      "toc_cell": false,
      "toc_position": {},
      "toc_section_display": true,
      "toc_window_display": false
    },
    "vscode": {
      "interpreter": {
        "hash": "530319769c7a324c6b82ac1cc75056bab3d836e99fff2463640c2e6369fda730"
      }
    }
  },
  "nbformat": 4,
  "nbformat_minor": 0
}
